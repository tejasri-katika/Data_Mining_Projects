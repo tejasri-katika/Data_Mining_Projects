{
 "cells": [
  {
   "cell_type": "markdown",
   "metadata": {},
   "source": [
    "# Assignment 2\n",
    "## Naive Bayes Classifier"
   ]
  },
  {
   "cell_type": "markdown",
   "metadata": {},
   "source": [
    "## Student Details (1 Point)\n",
    "\n",
    "First Student Name and ID: Tejasri Katikapally and  1002032909  , Divyasri Morasa and 1002032910 , HemaSai Desai 1002029973\n",
    "\n",
    "\n",
    "\n",
    "Notes: When submitting, fill your name and ID in this cell.  [1 point]\n",
    "\n",
    "Make sure to write about any 4-5 line to explain any kind of visualization\n",
    "\n",
    "Do not to forget to cite any external sources used by you."
   ]
  },
  {
   "cell_type": "markdown",
   "metadata": {},
   "source": [
    "# Remeber to cite any external sources here"
   ]
  },
  {
   "cell_type": "markdown",
   "metadata": {},
   "source": [
    "# Naive Bayes-\n",
    "\n",
    "## Programming Assignment Details-\n",
    "\n",
    "## Preprocessing-\n",
    "You have textual data that you cannot feed into the model. Therefore, you need to extract features from the text (email) and transform the data. There are techniques to do so, such as Bag of Words, n-grams, Tf-Idf, Word2Vec, CountVectorizer, and many others.\n",
    "\n",
    "## The Model-\n",
    "Test train split, using 80% for training, rest for testing. Next you will need to train NB model(Gausian) for classification.\n",
    "\n",
    "Create the model using training data, predict on the test data, and get the accuracy, plot the confusion matrix.\n",
    "\n",
    "## Metrics to report- \n",
    "You will need to report-\n",
    "1. Accuracy Score(metrics.accuracy_score)\n",
    "2. Confusion Matrix(metrics.confusion_matrix) plotted graphically(It needs to be in the final jupyter file which you submit)\n",
    "\n",
    "## Answer the following questions-\n",
    "Do not include too much information, it has to be consise. Just your student ids, and the necessary info.\n",
    "1. Briefly explain your approach, any preprocessing, explain the output, any visualisation for explanation, in same jupyter file. (3-4 paragraphs max)\n",
    "\n",
    "## Grading-\n",
    "1. (30 pts) Loading and preprocessing of the data.\n",
    "2. (30 pts) Creation of correct model(NB), with decent metrics, plotting confusion matrix.\n",
    "3. (30 pts) Explaining the approach, also explain the(if any) preprocessor which you used.\n",
    "4. (7 pts) Neatly presented code, with comments, correctly named files, complete report section, and followed the UTA code of conduct.\n",
    "\n",
    "## Programming Assignment Submission Instructions (2 Points)\n",
    "Each file should be submitted separately, do not compress them, only one student submits.\n",
    "\n",
    "Format of file naming:\n",
    "\n",
    "NB-\n",
    "'yourLastName_Last4digitsofyourID_NB.ipynb' (Report in markdown cells and code in code cells of Notebook preferred)\n",
    "\n",
    "## What to submit-\n",
    "1. Jupyter files(.ipynb)"
   ]
  },
  {
   "cell_type": "code",
   "execution_count": 46,
   "metadata": {},
   "outputs": [],
   "source": [
    "import pandas as pd\n",
    "from sklearn.model_selection import train_test_split\n",
    "from sklearn import metrics\n",
    "from sklearn.naive_bayes import GaussianNB\n",
    "import pandas as pd\n",
    "\n",
    "from sklearn.metrics import confusion_matrix\n",
    "from sklearn.metrics import ConfusionMatrixDisplay\n",
    "from sklearn.metrics import classification_report\n",
    "import matplotlib.pyplot as plt\n",
    "\n",
    "# Any other relevant import for feature extraction"
   ]
  },
  {
   "cell_type": "markdown",
   "metadata": {},
   "source": [
    "# Loading the dataset"
   ]
  },
  {
   "cell_type": "code",
   "execution_count": 2,
   "metadata": {
    "scrolled": true
   },
   "outputs": [
    {
     "data": {
      "text/html": [
       "<div>\n",
       "<style scoped>\n",
       "    .dataframe tbody tr th:only-of-type {\n",
       "        vertical-align: middle;\n",
       "    }\n",
       "\n",
       "    .dataframe tbody tr th {\n",
       "        vertical-align: top;\n",
       "    }\n",
       "\n",
       "    .dataframe thead th {\n",
       "        text-align: right;\n",
       "    }\n",
       "</style>\n",
       "<table border=\"1\" class=\"dataframe\">\n",
       "  <thead>\n",
       "    <tr style=\"text-align: right;\">\n",
       "      <th></th>\n",
       "      <th>email</th>\n",
       "      <th>label</th>\n",
       "    </tr>\n",
       "  </thead>\n",
       "  <tbody>\n",
       "    <tr>\n",
       "      <th>0</th>\n",
       "      <td>date wed NUMBER aug NUMBER NUMBER NUMBER NUMB...</td>\n",
       "      <td>0.0</td>\n",
       "    </tr>\n",
       "    <tr>\n",
       "      <th>1</th>\n",
       "      <td>martin a posted tassos papadopoulos the greek ...</td>\n",
       "      <td>0.0</td>\n",
       "    </tr>\n",
       "    <tr>\n",
       "      <th>2</th>\n",
       "      <td>man threatens explosion in moscow thursday aug...</td>\n",
       "      <td>0.0</td>\n",
       "    </tr>\n",
       "    <tr>\n",
       "      <th>3</th>\n",
       "      <td>klez the virus that won t die already the most...</td>\n",
       "      <td>0.0</td>\n",
       "    </tr>\n",
       "    <tr>\n",
       "      <th>4</th>\n",
       "      <td>in adding cream to spaghetti carbonara which ...</td>\n",
       "      <td>0.0</td>\n",
       "    </tr>\n",
       "    <tr>\n",
       "      <th>5</th>\n",
       "      <td>i just had to jump in here as carbonara is on...</td>\n",
       "      <td>0.0</td>\n",
       "    </tr>\n",
       "    <tr>\n",
       "      <th>6</th>\n",
       "      <td>the scotsman NUMBER august NUMBER playboy want...</td>\n",
       "      <td>0.0</td>\n",
       "    </tr>\n",
       "    <tr>\n",
       "      <th>7</th>\n",
       "      <td>martin adamson wrote isn t it just basically a...</td>\n",
       "      <td>0.0</td>\n",
       "    </tr>\n",
       "  </tbody>\n",
       "</table>\n",
       "</div>"
      ],
      "text/plain": [
       "                                               email  label\n",
       "0   date wed NUMBER aug NUMBER NUMBER NUMBER NUMB...    0.0\n",
       "1  martin a posted tassos papadopoulos the greek ...    0.0\n",
       "2  man threatens explosion in moscow thursday aug...    0.0\n",
       "3  klez the virus that won t die already the most...    0.0\n",
       "4   in adding cream to spaghetti carbonara which ...    0.0\n",
       "5   i just had to jump in here as carbonara is on...    0.0\n",
       "6  the scotsman NUMBER august NUMBER playboy want...    0.0\n",
       "7  martin adamson wrote isn t it just basically a...    0.0"
      ]
     },
     "execution_count": 2,
     "metadata": {},
     "output_type": "execute_result"
    }
   ],
   "source": [
    "#load the dataset file \"dataset_NB.csv\"\n",
    "\n",
    "df = pd.read_csv(\"dataset_NB.csv\")\n",
    "\n",
    "df.head(8)   #prints top 5 rows of the dataset"
   ]
  },
  {
   "cell_type": "markdown",
   "metadata": {},
   "source": [
    "# Preprocessing "
   ]
  },
  {
   "cell_type": "code",
   "execution_count": 3,
   "metadata": {
    "scrolled": false
   },
   "outputs": [
    {
     "name": "stdout",
     "output_type": "stream",
     "text": [
      "email     1\n",
      "label    16\n",
      "dtype: int64\n",
      "\n",
      "Empty string count :\n",
      "email    0\n",
      "label    0\n",
      "dtype: int64\n"
     ]
    }
   ],
   "source": [
    "count_nullvalues = df.isnull().sum() # counts the number of null values in each column\n",
    "count_emptystrings = (df == '').sum() # counts the number of empty strings in each column\n",
    "print(count_nullvalues)\n",
    "print(\"\\nEmpty string count :\")\n",
    "print(count_emptystrings)\n"
   ]
  },
  {
   "cell_type": "markdown",
   "metadata": {},
   "source": [
    "* We can notice 1 null value for email column and 16 null values for label column  and no empty strings\n",
    "* In the next step we will handle the those null values"
   ]
  },
  {
   "cell_type": "code",
   "execution_count": 5,
   "metadata": {},
   "outputs": [
    {
     "name": "stdout",
     "output_type": "stream",
     "text": [
      "email    0\n",
      "label    0\n",
      "dtype: int64\n",
      "\n",
      " Empty string count : \n",
      "email    0\n",
      "label    0\n",
      "dtype: int64\n"
     ]
    }
   ],
   "source": [
    "\n",
    "# Handle NaN values in column 'label', email\n",
    "\n",
    "df['label'] = df['label'].fillna(0)\n",
    "df = df.dropna(subset=['email'])   # dropping non infinite values\n",
    "\n",
    "\n",
    "count_nullvalues = df.isnull().sum() # counts the number of null values in each column\n",
    "count_emptystrings = (df == '').sum() # counts the number of empty strings in each column\n",
    "print(count_nullvalues)\n",
    "print(\"\\n Empty string count : \")\n",
    "print(count_emptystrings)"
   ]
  },
  {
   "cell_type": "code",
   "execution_count": 33,
   "metadata": {},
   "outputs": [],
   "source": [
    "import re\n",
    "\n",
    "def preprocess(txt):\n",
    "    if isinstance(txt, str):\n",
    "        txt = txt.lower()   #converting uppercase to lowercase \n",
    "        headerss = [\"from:\", \"to:\", \"subject:\", \"cc:\", \"bcc:\"]  #Removing email headers\n",
    "        for h in headerss:\n",
    "            index = txt.find(h)\n",
    "            if index != -1:\n",
    "                txt = txt[index+len(h):]\n",
    "        txt = re.sub(r'[^\\w\\s]', '', txt)\n",
    "        txt=txt.replace(\"_\",\"\")\n",
    "        txt = re.sub(r'http\\S+', '', txt) #removing URLS\n",
    "    return txt"
   ]
  },
  {
   "cell_type": "code",
   "execution_count": null,
   "metadata": {},
   "outputs": [],
   "source": []
  },
  {
   "cell_type": "code",
   "execution_count": 36,
   "metadata": {},
   "outputs": [],
   "source": [
    "\n",
    "# Applying preprocess function to the 'email' column\n",
    "df['email'] = df['email'].apply(preprocess)\n",
    "\n"
   ]
  },
  {
   "cell_type": "markdown",
   "metadata": {},
   "source": [
    "* Loading dataset after preprocessing and naming modified dataset as \"updated_NB_dataset\""
   ]
  },
  {
   "cell_type": "code",
   "execution_count": 35,
   "metadata": {
    "scrolled": true
   },
   "outputs": [],
   "source": [
    "df.to_csv('updated_NB_dataset.csv')"
   ]
  },
  {
   "cell_type": "markdown",
   "metadata": {},
   "source": [
    "# Extract features using Tf-Idf vector"
   ]
  },
  {
   "cell_type": "code",
   "execution_count": 47,
   "metadata": {},
   "outputs": [
    {
     "name": "stdout",
     "output_type": "stream",
     "text": [
      "  (0, 16789)\t0.01913596919222321\n",
      "  (0, 32378)\t0.07519673102468251\n",
      "  (0, 9531)\t0.06491888647392673\n",
      "  (0, 29158)\t0.02341790567242496\n",
      "  (0, 14423)\t0.0325688933893922\n",
      "  (0, 25292)\t0.053566340553406165\n",
      "  (0, 16358)\t0.03344061437578647\n",
      "  (0, 29468)\t0.027408183703479517\n",
      "  (0, 24605)\t0.04419191278940722\n",
      "  (0, 6406)\t0.03672455252334629\n",
      "  (0, 23941)\t0.03846309942020854\n",
      "  (0, 29459)\t0.009609212282839574\n",
      "  (0, 122)\t0.03284917007685525\n",
      "  (0, 2554)\t0.02100380080864661\n",
      "  (0, 12309)\t0.03672455252334629\n",
      "  (0, 682)\t0.03368983982512522\n",
      "  (0, 6617)\t0.02820345938591898\n",
      "  (0, 10619)\t0.03007527666844925\n",
      "  (0, 5045)\t0.029489538032327834\n",
      "  (0, 27814)\t0.02511469183950533\n",
      "  (0, 23214)\t0.04544040812928729\n",
      "  (0, 15465)\t0.044917698511831805\n",
      "  (0, 6135)\t0.039692604861533004\n",
      "  (0, 11317)\t0.018084691770998574\n",
      "  (0, 7824)\t0.018233475528297724\n",
      "  :\t:\n",
      "  (3014, 4612)\t0.03066584924915485\n",
      "  (3014, 25111)\t0.0330995054896253\n",
      "  (3014, 3419)\t0.035240632969267244\n",
      "  (3014, 8895)\t0.02989882305011368\n",
      "  (3014, 2086)\t0.027217758107947118\n",
      "  (3014, 6383)\t0.028975940700027153\n",
      "  (3014, 13145)\t0.14610837676984292\n",
      "  (3014, 8005)\t0.11190783967622285\n",
      "  (3014, 28882)\t0.031555104284227295\n",
      "  (3014, 2318)\t0.0535815862336845\n",
      "  (3014, 24763)\t0.02624303126638506\n",
      "  (3014, 481)\t0.031751283159131984\n",
      "  (3014, 7436)\t0.02679079311684225\n",
      "  (3014, 29712)\t0.03100477266849146\n",
      "  (3014, 12474)\t0.02787622702681938\n",
      "  (3014, 16781)\t0.048382927458685915\n",
      "  (3014, 18924)\t0.02631656203957303\n",
      "  (3014, 8679)\t0.026921090264505673\n",
      "  (3014, 10772)\t0.060255163444758564\n",
      "  (3014, 30874)\t0.019824943954626344\n",
      "  (3014, 20452)\t0.007336430026738482\n",
      "  (3014, 29083)\t0.012862062528598409\n",
      "  (3014, 14359)\t0.00778180021836086\n",
      "  (3014, 29176)\t0.008507189274074036\n",
      "  (3014, 19168)\t0.21346973369116629\n"
     ]
    }
   ],
   "source": [
    "# Preprocess\n",
    "import pandas as pd\n",
    "from sklearn.feature_extraction.text import TfidfVectorizer\n",
    "from sklearn.naive_bayes import MultinomialNB\n",
    "from sklearn.metrics import accuracy_score\n",
    "\n",
    "# Extract features using Tf-Idf vector\n",
    "\n",
    "Tfidf_vect = TfidfVectorizer()\n",
    "X_email = Tfidf_vect.fit_transform(df['email'])\n",
    "y_label = df['label']\n",
    "print(X_email)"
   ]
  },
  {
   "cell_type": "code",
   "execution_count": null,
   "metadata": {},
   "outputs": [],
   "source": [
    "Training and Modeling the data"
   ]
  },
  {
   "cell_type": "code",
   "execution_count": 21,
   "metadata": {},
   "outputs": [],
   "source": [
    "# train_test_split\n",
    "\n",
    "# Split the data into training and testing sets\n",
    "# using 80% to data to train and 20% to test the data\n",
    "X_train, X_test, y_train, y_test = train_test_split(X_email, y_label, test_size=0.2, random_state=46)\n",
    "\n",
    "\n"
   ]
  },
  {
   "cell_type": "code",
   "execution_count": 22,
   "metadata": {},
   "outputs": [
    {
     "data": {
      "text/plain": [
       "GaussianNB()"
      ]
     },
     "execution_count": 22,
     "metadata": {},
     "output_type": "execute_result"
    }
   ],
   "source": [
    "# Train a Naive Bayes classifier on the transformed data \n",
    "# Using GaussianNB model for classification\n",
    "from sklearn.naive_bayes import GaussianNB\n",
    "# Train the model on the training data\n",
    "\n",
    "classification = GaussianNB()\n",
    "classification.fit(X_train.toarray(), y_train)\n",
    "\n",
    "\n",
    "\n"
   ]
  },
  {
   "cell_type": "code",
   "execution_count": 41,
   "metadata": {},
   "outputs": [
    {
     "name": "stdout",
     "output_type": "stream",
     "text": [
      "Accuracy: 0.9253731343283582\n",
      "confusion_matrix \n",
      " [[480  14]\n",
      " [ 31  78]]\n"
     ]
    }
   ],
   "source": [
    "# Make predictions on test data\n",
    "y_pred = classification.predict(X_test.toarray())\n",
    "\n",
    "# Metrics and plots\n",
    "from sklearn.metrics import accuracy_score\n",
    "\n",
    "accuracy = accuracy_score(y_test, y_pred)\n",
    "print('Accuracy:', accuracy)\n",
    "\n",
    "confusion_matrix = metrics.confusion_matrix(y_test, y_pred)\n",
    "print('confusion_matrix \\n', confusion_matrix)"
   ]
  },
  {
   "cell_type": "code",
   "execution_count": 45,
   "metadata": {},
   "outputs": [
    {
     "data": {
      "image/png": "[encoded data removed]",
      "text/plain": [
       "<Figure size 640x480 with 2 Axes>"
      ]
     },
     "metadata": {},
     "output_type": "display_data"
    }
   ],
   "source": [
    "# Plot the confusion matrix\n",
    "import seaborn as sns\n",
    "sns.heatmap(cm, annot=True, cmap='magma', fmt='d', cbar=True)\n",
    "plt.title('Confusion Matrix')\n",
    "plt.xlabel('email')\n",
    "plt.ylabel('label')\n",
    "plt.show()"
   ]
  },
  {
   "cell_type": "markdown",
   "metadata": {},
   "source": [
    "Classification Report"
   ]
  },
  {
   "cell_type": "code",
   "execution_count": 44,
   "metadata": {},
   "outputs": [
    {
     "name": "stdout",
     "output_type": "stream",
     "text": [
      "              precision    recall  f1-score   support\n",
      "\n",
      "         0.0       0.94      0.97      0.96       494\n",
      "         1.0       0.85      0.72      0.78       109\n",
      "\n",
      "    accuracy                           0.93       603\n",
      "   macro avg       0.89      0.84      0.87       603\n",
      "weighted avg       0.92      0.93      0.92       603\n",
      "\n"
     ]
    }
   ],
   "source": [
    "# Print the classification report\n",
    "\n",
    "report_for_classification = classification_report(y_test, y_pred)\n",
    "print(report_for_classification)\n"
   ]
  },
  {
   "cell_type": "code",
   "execution_count": 29,
   "metadata": {
    "scrolled": true
   },
   "outputs": [
    {
     "data": {
      "image/png": "[encoded data removed]",
      "text/plain": [
       "<Figure size 640x480 with 1 Axes>"
      ]
     },
     "metadata": {},
     "output_type": "display_data"
    }
   ],
   "source": [
    "# Visualization for label\n",
    "sns.countplot(x='label', data = df, palette='bwr')\n",
    "plt.show()"
   ]
  },
  {
   "cell_type": "markdown",
   "metadata": {},
   "source": [
    "# REPORT\n",
    "\n",
    "* Load the dataset - >Load the given dataset file for Naive Bayes (dataset_NB.csv)\n",
    "* Preprocessing  \n",
    "      Technique used to preprocess is \" Tf-Idf Vector\" \n",
    "      Tf - Term Frequecy(How frequently a term [words] occurs in a document[sentence] )\n",
    "      Idf- Inverse Document Frequency [Holds weights of rarely occured words]\n",
    "      The result of Tf-Idf preprocessing is a vector representation of each sentence, where each element in the vector          corresponds to a particular term and its weight in the semtence\n",
    "      \n",
    "      Using \" Tf-Idf Vector\"  to extract features from the text (email) and transform the data.\n",
    " * Training the model  \n",
    "    splitting the data as 80% to train the data and 20% to test it\n",
    "  \n",
    " * classification is done by using Gaussian NB model\n",
    "    Gaussian Naive Bayes: This is used for continuous data that follows a Gaussian distribution. It assumes that the features       are independent and have a Gaussian distribution\n",
    "      \n",
    " * To evaluate the performance of a classification model.\n",
    " Accuracy Score and Confusion Matrix are calculated\n",
    " Accuracy score : The accuracy score is the proportion of classified instances over the total number of instances in                     the dataset \n",
    " \n",
    " Confusion matrix : It is a table that shows the number of true positives (TP), false positives (FP), false negatives (FN), and true negatives (TN) for each class in the dataset. It helps us visualize how model is doing for each class and identify any patterns and predictions\n",
    " Below are the results :\n",
    " Accuracy: 0.9253731343283582\n",
    " confusion_matrix \n",
    " [[480  14]\n",
    " [ 31  78]]\n"
   ]
  },
  {
   "cell_type": "markdown",
   "metadata": {},
   "source": [
    "# Extra - Can you do better?\n",
    "\n",
    "The accuracy of Naive Bayes depends on problem and characteristics of dataset.\n",
    "\n",
    "For example, For continuous features in data set  Gaussian Naive Bayes may perform better than Multinomial or Bernoulli Naive Bayes.\n",
    "if dataset consists of discrete featuresthen Multinomial Naive Bayes may perform better\n"
   ]
  },
  {
   "cell_type": "markdown",
   "metadata": {},
   "source": [
    "# contribution\n",
    "Hema Desai focused more on nearest neighbors, DivyaSri worked primarily with decision trees, and Teja Sri worked with naive bayes. We had a discussion on the entire project assignment and shared our inputs to complete our parts with one another. We also corrected our mistakes and attempted to produce a higher accuracy rate.\n",
    "\n",
    "#references\n",
    "\n",
    "\"Naive Bayes and Text Classification\" by Jacob Perkins: https://www.ibm.com/cloud/learn/naive-bayes-explained\"A Practical Explanation of a Naive Bayes Classifier\" by Jeff Howbert: https://monkeylearn.com/blog/practical-explanation-naive-bayes-classifier/\"Naive Bayes Classifier: A Comprehensive Guide with Python Examples\" by Kavita Ganesan: https://www.datacamp.com/community/tutorials/naive-bayes-scikit-learn\"The Naive Bayes Algorithm\" by Jason Brownlee:\n",
    "\n"
   ]
  }
 ],
 "metadata": {
  "kernelspec": {
   "display_name": "Python 3 (ipykernel)",
   "language": "python",
   "name": "python3"
  },
  "language_info": {
   "codemirror_mode": {
    "name": "ipython",
    "version": 3
   },
   "file_extension": ".py",
   "mimetype": "text/x-python",
   "name": "python",
   "nbconvert_exporter": "python",
   "pygments_lexer": "ipython3",
   "version": "3.9.13"
  },
  "vscode": {
   "interpreter": {
    "hash": "3405992a48275e07086f2eda395b3e07105689753999f083f9af1c7b0bb06650"
   }
  }
 },
 "nbformat": 4,
 "nbformat_minor": 2
}
