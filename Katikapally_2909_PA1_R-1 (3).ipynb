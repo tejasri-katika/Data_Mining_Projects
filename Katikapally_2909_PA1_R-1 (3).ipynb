{
 "cells": [
  {
   "cell_type": "markdown",
   "id": "57b1b98b",
   "metadata": {},
   "source": [
    "# PA 1: Exploratory Analysis over Dataset_R"
   ]
  },
  {
   "cell_type": "markdown",
   "id": "dc0fa2bc",
   "metadata": {},
   "source": [
    "## Student Details\n",
    "\n",
    "Student Name and ID: Divya Sri Morasa(1002032910), Tejasri Katikapally(1002032909),Desai Hema Sai(1002029973) \n",
    "\n",
    "Notes:\n",
    "When submitting, fill your name and ID in this cell. Note that this is a markdown cell!\n",
    "Do not make any changes in the dataset file and do not rename the 'dataset_python.csv'.\n",
    "Rename your submission file to <b> 'yourLastName_Last4digitsofyourID_PA1.ipynb' </b>.\n",
    "Do not to forget to cite any external sources used by you.\n",
    "<b>[2.5 points]</b>"
   ]
  },
  {
   "cell_type": "markdown",
   "id": "186c50f0",
   "metadata": {},
   "source": [
    " ## Assignment Details\n",
    "\n",
    "In this assignment, you will explore, manipulate and play with the data.\n",
    "\n",
    "You will prepare a report with the following outline for each one of the dataset. Look at the following Example.\n",
    "\n",
    "1.\tIntroduction\n",
    "\n",
    "2.\tRetrieving the Data\n",
    "\n",
    "3.\tGlimpse of Data\n",
    "\n",
    "4.\tCheck for missing data\n",
    "\n",
    "5.\tData Exploration\n",
    "\n",
    "6.  Include a paragraph describing the contribution made by each team member\n",
    "\n",
    "\n",
    "You will learn and use some of the most common exploration/aggregation/descriptive operations. This should also help you learn most of the key functionalities in Python, Weka and R. DO Task 1, Task 2, Task 3, Task 4 using Python, Weka, R.\n",
    " \n",
    "**Out of the 3 datasets listed below:**\n",
    "\n",
    "**1. Dataset_python should be solved using Python in Jupyter notebook only.**\n",
    "\n",
    "**2. Dataset_Weka using WEKA**\n",
    "\n",
    "**3. Dataset_R using R**\n",
    "\n",
    "\n",
    "You will also learn how to use visualization libraries to identify patterns in data that will help in your further data analysis. You will also explore most popular chart types and how to use different libraries and styles to make your visualizations more attractive."
   ]
  },
  {
   "cell_type": "markdown",
   "id": "7a239162",
   "metadata": {},
   "source": [
    "# Dataset Details\n",
    "\n",
    "In this assignment, you will work on dataset_R. The columns of the data-set are:\n",
    "\n",
    "- Loan Status - Loan approved (Y/N)\n",
    "- Loan_ID - Unique Loan ID\n",
    "- Gender - Male/ Female\n",
    "- Married - Applicant married (Y/N)\n",
    "- Dependents - Number of dependents\n",
    "- Education Applicant - Education (Graduate/ Under Graduate)\n",
    "- Self_Employed Self - employed (Y/N)\n",
    "- ApplicantIncome - Applicant income\n",
    "- CoapplicantIncome - Coapplicant income\n",
    "- LoanAmount - Loan amount in thousands\n",
    "- Loan_Amount_Term - Term of loan in months\n",
    "- Credit_History - credit history meets guidelines\n",
    "- Property_Area - Urban/ Semi Urban/ Rural)"
   ]
  },
  {
   "cell_type": "code",
   "execution_count": 3,
   "id": "61df63bf",
   "metadata": {},
   "outputs": [
    {
     "name": "stderr",
     "output_type": "stream",
     "text": [
      "also installing the dependencies 'vctrs', 'rlang', 'tidyselect', 'cli', 'hms', 'lifecycle', 'vroom'\n",
      "\n"
     ]
    },
    {
     "name": "stdout",
     "output_type": "stream",
     "text": [
      "\n",
      "  There are binary versions available but the source versions are later:\n",
      "           binary source needs_compilation\n",
      "vctrs       0.3.8  0.5.2              TRUE\n",
      "rlang      0.4.11  1.0.6              TRUE\n",
      "tidyselect  1.1.1  1.2.0             FALSE\n",
      "cli         2.5.0  3.6.0              TRUE\n",
      "hms         1.0.0  1.1.2             FALSE\n",
      "lifecycle   1.0.0  1.0.3             FALSE\n",
      "vroom       1.4.0  1.6.1              TRUE\n",
      "readr       1.4.0  2.1.4              TRUE\n",
      "\n",
      "  Binaries will be installed\n",
      "package 'vctrs' successfully unpacked and MD5 sums checked\n",
      "package 'rlang' successfully unpacked and MD5 sums checked\n",
      "package 'cli' successfully unpacked and MD5 sums checked\n",
      "package 'vroom' successfully unpacked and MD5 sums checked\n",
      "package 'readr' successfully unpacked and MD5 sums checked\n",
      "\n",
      "The downloaded binary packages are in\n",
      "\tC:\\Users\\Tejasri\\AppData\\Local\\Temp\\RtmpYdjSAm\\downloaded_packages\n"
     ]
    },
    {
     "name": "stderr",
     "output_type": "stream",
     "text": [
      "installing the source packages 'tidyselect', 'hms', 'lifecycle'\n",
      "\n",
      "Warning message in install.packages(\"readr\"):\n",
      "\"installation of package 'lifecycle' had non-zero exit status\"Warning message in install.packages(\"readr\"):\n",
      "\"installation of package 'tidyselect' had non-zero exit status\"Warning message in install.packages(\"readr\"):\n",
      "\"installation of package 'hms' had non-zero exit status\"Warning message:\n",
      "\"package 'readr' was built under R version 3.6.3\""
     ]
    },
    {
     "ename": "ERROR",
     "evalue": "Error: package or namespace load failed for 'readr' in loadNamespace(j <- i[[1L]], c(lib.loc, .libPaths()), versionCheck = vI[[j]]):\n there is no package called 'hms'\n",
     "output_type": "error",
     "traceback": [
      "Error: package or namespace load failed for 'readr' in loadNamespace(j <- i[[1L]], c(lib.loc, .libPaths()), versionCheck = vI[[j]]):\n there is no package called 'hms'\nTraceback:\n",
      "1. library(readr)",
      "2. tryCatch({\n .     attr(package, \"LibPath\") <- which.lib.loc\n .     ns <- loadNamespace(package, lib.loc)\n .     env <- attachNamespace(ns, pos = pos, deps, exclude, include.only)\n . }, error = function(e) {\n .     P <- if (!is.null(cc <- conditionCall(e))) \n .         paste(\" in\", deparse(cc)[1L])\n .     else \"\"\n .     msg <- gettextf(\"package or namespace load failed for %s%s:\\n %s\", \n .         sQuote(package), P, conditionMessage(e))\n .     if (logical.return) \n .         message(paste(\"Error:\", msg), domain = NA)\n .     else stop(msg, call. = FALSE, domain = NA)\n . })",
      "3. tryCatchList(expr, classes, parentenv, handlers)",
      "4. tryCatchOne(expr, names, parentenv, handlers[[1L]])",
      "5. value[[3L]](cond)",
      "6. stop(msg, call. = FALSE, domain = NA)"
     ]
    }
   ],
   "source": [
    "# Import R packages \n",
    "install.packages(\"readr\")\n",
    "library(readr)\n",
    "install.packages(\"Hmisc\")\n",
    "library(Hmisc)\n",
    "install.packages(\"dplyr\")\n",
    "library(dplyr)\n",
    "install.packages(\"ggplot2\")\n",
    "library(ggplot2)\n",
    "install.packages(\"reshape2\")\n",
    "library(reshape2)"
   ]
  },
  {
   "cell_type": "code",
   "execution_count": null,
   "id": "8341bc71",
   "metadata": {},
   "outputs": [],
   "source": []
  },
  {
   "cell_type": "code",
   "execution_count": 5,
   "id": "47ee6142",
   "metadata": {},
   "outputs": [],
   "source": [
    "# Read the dataset_R CSV file \n",
    "data_set = read.csv('dataset_R.csv', stringsAsFactors = FALSE)"
   ]
  },
  {
   "cell_type": "code",
   "execution_count": 6,
   "id": "b21115a1",
   "metadata": {
    "scrolled": true
   },
   "outputs": [
    {
     "data": {
      "text/html": [
       "<table>\n",
       "<thead><tr><th scope=col>Loan_ID</th><th scope=col>Gender</th><th scope=col>Married</th><th scope=col>Dependents</th><th scope=col>Education</th><th scope=col>Self_Employed</th><th scope=col>ApplicantIncome</th><th scope=col>CoapplicantIncome</th><th scope=col>LoanAmount</th><th scope=col>Loan_Amount_Term</th><th scope=col>Credit_History</th><th scope=col>Property_Area</th><th scope=col>Loan_Status</th></tr></thead>\n",
       "<tbody>\n",
       "\t<tr><td>LP001002    </td><td>Male        </td><td>No          </td><td>0           </td><td>Graduate    </td><td>No          </td><td> 5849       </td><td>    0       </td><td> NA         </td><td>360         </td><td>1           </td><td>Urban       </td><td>Y           </td></tr>\n",
       "\t<tr><td>LP001003    </td><td>Male        </td><td>Yes         </td><td>1           </td><td>Graduate    </td><td>No          </td><td> 4583       </td><td> 1508       </td><td>128         </td><td>360         </td><td>1           </td><td>Rural       </td><td>N           </td></tr>\n",
       "\t<tr><td>LP001005    </td><td>Male        </td><td>Yes         </td><td>0           </td><td>Graduate    </td><td>Yes         </td><td> 3000       </td><td>    0       </td><td> 66         </td><td>360         </td><td>1           </td><td>Urban       </td><td>Y           </td></tr>\n",
       "\t<tr><td>LP001006    </td><td>Male        </td><td>Yes         </td><td>0           </td><td>Not Graduate</td><td>No          </td><td> 2583       </td><td> 2358       </td><td>120         </td><td>360         </td><td>1           </td><td>Urban       </td><td>Y           </td></tr>\n",
       "\t<tr><td>LP001008    </td><td>Male        </td><td>No          </td><td>0           </td><td>Graduate    </td><td>No          </td><td> 6000       </td><td>    0       </td><td>141         </td><td>360         </td><td>1           </td><td>Urban       </td><td>Y           </td></tr>\n",
       "\t<tr><td>LP001011    </td><td>Male        </td><td>Yes         </td><td>2           </td><td>Graduate    </td><td>Yes         </td><td> 5417       </td><td> 4196       </td><td>267         </td><td>360         </td><td>1           </td><td>Urban       </td><td>Y           </td></tr>\n",
       "\t<tr><td>LP001013    </td><td>Male        </td><td>Yes         </td><td>0           </td><td>Not Graduate</td><td>No          </td><td> 2333       </td><td> 1516       </td><td> 95         </td><td>360         </td><td>1           </td><td>Urban       </td><td>Y           </td></tr>\n",
       "\t<tr><td>LP001014    </td><td>Male        </td><td>Yes         </td><td>3+          </td><td>Graduate    </td><td>No          </td><td> 3036       </td><td> 2504       </td><td>158         </td><td>360         </td><td>0           </td><td>Semiurban   </td><td>N           </td></tr>\n",
       "\t<tr><td>LP001018    </td><td>Male        </td><td>Yes         </td><td>2           </td><td>Graduate    </td><td>No          </td><td> 4006       </td><td> 1526       </td><td>168         </td><td>360         </td><td>1           </td><td>Urban       </td><td>Y           </td></tr>\n",
       "\t<tr><td>LP001020    </td><td>Male        </td><td>Yes         </td><td>1           </td><td>Graduate    </td><td>No          </td><td>12841       </td><td>10968       </td><td>349         </td><td>360         </td><td>1           </td><td>Semiurban   </td><td>N           </td></tr>\n",
       "</tbody>\n",
       "</table>\n"
      ],
      "text/latex": [
       "\\begin{tabular}{r|lllllllllllll}\n",
       " Loan\\_ID & Gender & Married & Dependents & Education & Self\\_Employed & ApplicantIncome & CoapplicantIncome & LoanAmount & Loan\\_Amount\\_Term & Credit\\_History & Property\\_Area & Loan\\_Status\\\\\n",
       "\\hline\n",
       "\t LP001002     & Male         & No           & 0            & Graduate     & No           &  5849        &     0        &  NA          & 360          & 1            & Urban        & Y           \\\\\n",
       "\t LP001003     & Male         & Yes          & 1            & Graduate     & No           &  4583        &  1508        & 128          & 360          & 1            & Rural        & N           \\\\\n",
       "\t LP001005     & Male         & Yes          & 0            & Graduate     & Yes          &  3000        &     0        &  66          & 360          & 1            & Urban        & Y           \\\\\n",
       "\t LP001006     & Male         & Yes          & 0            & Not Graduate & No           &  2583        &  2358        & 120          & 360          & 1            & Urban        & Y           \\\\\n",
       "\t LP001008     & Male         & No           & 0            & Graduate     & No           &  6000        &     0        & 141          & 360          & 1            & Urban        & Y           \\\\\n",
       "\t LP001011     & Male         & Yes          & 2            & Graduate     & Yes          &  5417        &  4196        & 267          & 360          & 1            & Urban        & Y           \\\\\n",
       "\t LP001013     & Male         & Yes          & 0            & Not Graduate & No           &  2333        &  1516        &  95          & 360          & 1            & Urban        & Y           \\\\\n",
       "\t LP001014     & Male         & Yes          & 3+           & Graduate     & No           &  3036        &  2504        & 158          & 360          & 0            & Semiurban    & N           \\\\\n",
       "\t LP001018     & Male         & Yes          & 2            & Graduate     & No           &  4006        &  1526        & 168          & 360          & 1            & Urban        & Y           \\\\\n",
       "\t LP001020     & Male         & Yes          & 1            & Graduate     & No           & 12841        & 10968        & 349          & 360          & 1            & Semiurban    & N           \\\\\n",
       "\\end{tabular}\n"
      ],
      "text/markdown": [
       "\n",
       "| Loan_ID | Gender | Married | Dependents | Education | Self_Employed | ApplicantIncome | CoapplicantIncome | LoanAmount | Loan_Amount_Term | Credit_History | Property_Area | Loan_Status |\n",
       "|---|---|---|---|---|---|---|---|---|---|---|---|---|\n",
       "| LP001002     | Male         | No           | 0            | Graduate     | No           |  5849        |     0        |  NA          | 360          | 1            | Urban        | Y            |\n",
       "| LP001003     | Male         | Yes          | 1            | Graduate     | No           |  4583        |  1508        | 128          | 360          | 1            | Rural        | N            |\n",
       "| LP001005     | Male         | Yes          | 0            | Graduate     | Yes          |  3000        |     0        |  66          | 360          | 1            | Urban        | Y            |\n",
       "| LP001006     | Male         | Yes          | 0            | Not Graduate | No           |  2583        |  2358        | 120          | 360          | 1            | Urban        | Y            |\n",
       "| LP001008     | Male         | No           | 0            | Graduate     | No           |  6000        |     0        | 141          | 360          | 1            | Urban        | Y            |\n",
       "| LP001011     | Male         | Yes          | 2            | Graduate     | Yes          |  5417        |  4196        | 267          | 360          | 1            | Urban        | Y            |\n",
       "| LP001013     | Male         | Yes          | 0            | Not Graduate | No           |  2333        |  1516        |  95          | 360          | 1            | Urban        | Y            |\n",
       "| LP001014     | Male         | Yes          | 3+           | Graduate     | No           |  3036        |  2504        | 158          | 360          | 0            | Semiurban    | N            |\n",
       "| LP001018     | Male         | Yes          | 2            | Graduate     | No           |  4006        |  1526        | 168          | 360          | 1            | Urban        | Y            |\n",
       "| LP001020     | Male         | Yes          | 1            | Graduate     | No           | 12841        | 10968        | 349          | 360          | 1            | Semiurban    | N            |\n",
       "\n"
      ],
      "text/plain": [
       "   Loan_ID  Gender Married Dependents Education    Self_Employed\n",
       "1  LP001002 Male   No      0          Graduate     No           \n",
       "2  LP001003 Male   Yes     1          Graduate     No           \n",
       "3  LP001005 Male   Yes     0          Graduate     Yes          \n",
       "4  LP001006 Male   Yes     0          Not Graduate No           \n",
       "5  LP001008 Male   No      0          Graduate     No           \n",
       "6  LP001011 Male   Yes     2          Graduate     Yes          \n",
       "7  LP001013 Male   Yes     0          Not Graduate No           \n",
       "8  LP001014 Male   Yes     3+         Graduate     No           \n",
       "9  LP001018 Male   Yes     2          Graduate     No           \n",
       "10 LP001020 Male   Yes     1          Graduate     No           \n",
       "   ApplicantIncome CoapplicantIncome LoanAmount Loan_Amount_Term Credit_History\n",
       "1   5849               0              NA        360              1             \n",
       "2   4583            1508             128        360              1             \n",
       "3   3000               0              66        360              1             \n",
       "4   2583            2358             120        360              1             \n",
       "5   6000               0             141        360              1             \n",
       "6   5417            4196             267        360              1             \n",
       "7   2333            1516              95        360              1             \n",
       "8   3036            2504             158        360              0             \n",
       "9   4006            1526             168        360              1             \n",
       "10 12841           10968             349        360              1             \n",
       "   Property_Area Loan_Status\n",
       "1  Urban         Y          \n",
       "2  Rural         N          \n",
       "3  Urban         Y          \n",
       "4  Urban         Y          \n",
       "5  Urban         Y          \n",
       "6  Urban         Y          \n",
       "7  Urban         Y          \n",
       "8  Semiurban     N          \n",
       "9  Urban         Y          \n",
       "10 Semiurban     N          "
      ]
     },
     "metadata": {},
     "output_type": "display_data"
    }
   ],
   "source": [
    "# return the first 10 rows of the dataset\n",
    "head(data_set,10)"
   ]
  },
  {
   "cell_type": "code",
   "execution_count": null,
   "id": "a44bf19a",
   "metadata": {},
   "outputs": [],
   "source": []
  },
  {
   "cell_type": "code",
   "execution_count": null,
   "id": "bb7b0c19",
   "metadata": {},
   "outputs": [],
   "source": []
  },
  {
   "cell_type": "code",
   "execution_count": null,
   "id": "ec5469bc",
   "metadata": {},
   "outputs": [],
   "source": []
  },
  {
   "cell_type": "code",
   "execution_count": null,
   "id": "e048d8c0",
   "metadata": {},
   "outputs": [],
   "source": []
  },
  {
   "cell_type": "markdown",
   "id": "f7923d25",
   "metadata": {},
   "source": [
    "# Task 1: Statistical Exploratory Data Analysis(17.5 points)"
   ]
  },
  {
   "cell_type": "code",
   "execution_count": 7,
   "id": "35780b26",
   "metadata": {
    "scrolled": false
   },
   "outputs": [
    {
     "name": "stdout",
     "output_type": "stream",
     "text": [
      "[1] \"Details of dataframe\"\n"
     ]
    },
    {
     "data": {
      "text/plain": [
       "   Loan_ID             Gender            Married           Dependents       \n",
       " Length:614         Length:614         Length:614         Length:614        \n",
       " Class :character   Class :character   Class :character   Class :character  \n",
       " Mode  :character   Mode  :character   Mode  :character   Mode  :character  \n",
       "                                                                            \n",
       "                                                                            \n",
       "                                                                            \n",
       "                                                                            \n",
       "  Education         Self_Employed      ApplicantIncome CoapplicantIncome\n",
       " Length:614         Length:614         Min.   :  150   Min.   :    0    \n",
       " Class :character   Class :character   1st Qu.: 2878   1st Qu.:    0    \n",
       " Mode  :character   Mode  :character   Median : 3812   Median : 1188    \n",
       "                                       Mean   : 5403   Mean   : 1621    \n",
       "                                       3rd Qu.: 5795   3rd Qu.: 2297    \n",
       "                                       Max.   :81000   Max.   :41667    \n",
       "                                                                        \n",
       "   LoanAmount    Loan_Amount_Term Credit_History   Property_Area     \n",
       " Min.   :  9.0   Min.   : 12      Min.   :0.0000   Length:614        \n",
       " 1st Qu.:100.0   1st Qu.:360      1st Qu.:1.0000   Class :character  \n",
       " Median :128.0   Median :360      Median :1.0000   Mode  :character  \n",
       " Mean   :146.4   Mean   :342      Mean   :0.8422                     \n",
       " 3rd Qu.:168.0   3rd Qu.:360      3rd Qu.:1.0000                     \n",
       " Max.   :700.0   Max.   :480      Max.   :1.0000                     \n",
       " NA's   :22      NA's   :14       NA's   :50                         \n",
       " Loan_Status       \n",
       " Length:614        \n",
       " Class :character  \n",
       " Mode  :character  \n",
       "                   \n",
       "                   \n",
       "                   \n",
       "                   "
      ]
     },
     "metadata": {},
     "output_type": "display_data"
    },
    {
     "name": "stdout",
     "output_type": "stream",
     "text": [
      "[1] \"Number of rows in dataset : \"\n",
      "[1] 614\n",
      "[1] \"Number of columns in dataset : \"\n",
      "[1] 13\n"
     ]
    }
   ],
   "source": [
    "# 1-a Print the details of dataframe and find out the number of rows and columns in dataset\n",
    "\n",
    "print(\"Details of dataframe\")\n",
    "summary(data_set)\n",
    "print(\"Number of rows in dataset : \")\n",
    "print(nrow(data_set))\n",
    "print(\"Number of columns in dataset : \")\n",
    "print(ncol(data_set))\n"
   ]
  },
  {
   "cell_type": "code",
   "execution_count": null,
   "id": "94acbd3d",
   "metadata": {},
   "outputs": [],
   "source": []
  },
  {
   "cell_type": "code",
   "execution_count": 8,
   "id": "0832e182",
   "metadata": {},
   "outputs": [
    {
     "name": "stdout",
     "output_type": "stream",
     "text": [
      "[1] \"Descriptive detail of 'Gender'\"\n"
     ]
    },
    {
     "data": {
      "text/plain": [
       "   Length     Class      Mode \n",
       "      614 character character "
      ]
     },
     "metadata": {},
     "output_type": "display_data"
    },
    {
     "name": "stdout",
     "output_type": "stream",
     "text": [
      "[1] \"Descriptive detail of 'Applicant Income Summary'\"\n"
     ]
    },
    {
     "data": {
      "text/plain": [
       "   Min. 1st Qu.  Median    Mean 3rd Qu.    Max. \n",
       "    150    2878    3812    5403    5795   81000 "
      ]
     },
     "metadata": {},
     "output_type": "display_data"
    },
    {
     "name": "stdout",
     "output_type": "stream",
     "text": [
      "[1] \"Descriptive detail of 'Loan Amount'\"\n"
     ]
    },
    {
     "data": {
      "text/plain": [
       "   Min. 1st Qu.  Median    Mean 3rd Qu.    Max.    NA's \n",
       "    9.0   100.0   128.0   146.4   168.0   700.0      22 "
      ]
     },
     "metadata": {},
     "output_type": "display_data"
    },
    {
     "name": "stdout",
     "output_type": "stream",
     "text": [
      "[1] \"Descriptive detail of 'Education'\"\n"
     ]
    },
    {
     "data": {
      "text/plain": [
       "   Length     Class      Mode \n",
       "      614 character character "
      ]
     },
     "metadata": {},
     "output_type": "display_data"
    },
    {
     "name": "stdout",
     "output_type": "stream",
     "text": [
      "[1] \"Descriptive detail of 'Credit_History'\"\n"
     ]
    },
    {
     "data": {
      "text/plain": [
       "   Min. 1st Qu.  Median    Mean 3rd Qu.    Max.    NA's \n",
       " 0.0000  1.0000  1.0000  0.8422  1.0000  1.0000      50 "
      ]
     },
     "metadata": {},
     "output_type": "display_data"
    }
   ],
   "source": [
    "# 1-b Print descriptive detail of a column in dataset\n",
    "\n",
    "print(\"Descriptive detail of 'Gender'\")\n",
    "summary(data_set$Gender)\n",
    "print(\"Descriptive detail of 'Applicant Income Summary'\")\n",
    "summary(data_set$ApplicantIncome)\n",
    "print(\"Descriptive detail of 'Loan Amount'\")\n",
    "summary(data_set$LoanAmount)\n",
    "print(\"Descriptive detail of 'Education'\")\n",
    "summary(data_set$Education)\n",
    "print(\"Descriptive detail of 'Credit_History'\")\n",
    "summary(data_set$Credit_History)\n"
   ]
  },
  {
   "cell_type": "code",
   "execution_count": null,
   "id": "0c2b47f9",
   "metadata": {},
   "outputs": [],
   "source": []
  },
  {
   "cell_type": "code",
   "execution_count": null,
   "id": "4ffbe6cd",
   "metadata": {},
   "outputs": [],
   "source": []
  },
  {
   "cell_type": "code",
   "execution_count": null,
   "id": "5b29082c",
   "metadata": {},
   "outputs": [],
   "source": []
  },
  {
   "cell_type": "code",
   "execution_count": 9,
   "id": "78ab546f",
   "metadata": {
    "scrolled": false
   },
   "outputs": [
    {
     "data": {
      "text/html": [
       "<ol class=list-inline>\n",
       "\t<li>'LoanAmount'</li>\n",
       "\t<li>'Loan_Amount_Term'</li>\n",
       "\t<li>'Credit_History'</li>\n",
       "</ol>\n"
      ],
      "text/latex": [
       "\\begin{enumerate*}\n",
       "\\item 'LoanAmount'\n",
       "\\item 'Loan\\_Amount\\_Term'\n",
       "\\item 'Credit\\_History'\n",
       "\\end{enumerate*}\n"
      ],
      "text/markdown": [
       "1. 'LoanAmount'\n",
       "2. 'Loan_Amount_Term'\n",
       "3. 'Credit_History'\n",
       "\n",
       "\n"
      ],
      "text/plain": [
       "[1] \"LoanAmount\"       \"Loan_Amount_Term\" \"Credit_History\"  "
      ]
     },
     "metadata": {},
     "output_type": "display_data"
    }
   ],
   "source": [
    "# 1-c Check for missing values for each column in dataset\n",
    "names(which(colSums(is.na(data_set))>0))\n"
   ]
  },
  {
   "cell_type": "code",
   "execution_count": null,
   "id": "e0e8a503",
   "metadata": {},
   "outputs": [],
   "source": []
  },
  {
   "cell_type": "code",
   "execution_count": 13,
   "id": "f95aa4d9",
   "metadata": {},
   "outputs": [
    {
     "data": {
      "text/html": [
       "<table>\n",
       "<thead><tr><th></th><th scope=col>Loan_ID</th><th scope=col>Gender</th><th scope=col>Married</th><th scope=col>Dependents</th><th scope=col>Education</th><th scope=col>Self_Employed</th><th scope=col>ApplicantIncome</th><th scope=col>CoapplicantIncome</th><th scope=col>LoanAmount</th><th scope=col>Loan_Amount_Term</th><th scope=col>Credit_History</th><th scope=col>Property_Area</th><th scope=col>Loan_Status</th></tr></thead>\n",
       "<tbody>\n",
       "\t<tr><th scope=row>2</th><td>LP001003    </td><td>Male        </td><td>Yes         </td><td>1           </td><td>Graduate    </td><td>No          </td><td> 4583       </td><td> 1508       </td><td>128         </td><td>360         </td><td>1           </td><td>Rural       </td><td>N           </td></tr>\n",
       "\t<tr><th scope=row>3</th><td>LP001005    </td><td>Male        </td><td>Yes         </td><td>0           </td><td>Graduate    </td><td>Yes         </td><td> 3000       </td><td>    0       </td><td> 66         </td><td>360         </td><td>1           </td><td>Urban       </td><td>Y           </td></tr>\n",
       "\t<tr><th scope=row>4</th><td>LP001006    </td><td>Male        </td><td>Yes         </td><td>0           </td><td>Not Graduate</td><td>No          </td><td> 2583       </td><td> 2358       </td><td>120         </td><td>360         </td><td>1           </td><td>Urban       </td><td>Y           </td></tr>\n",
       "\t<tr><th scope=row>5</th><td>LP001008    </td><td>Male        </td><td>No          </td><td>0           </td><td>Graduate    </td><td>No          </td><td> 6000       </td><td>    0       </td><td>141         </td><td>360         </td><td>1           </td><td>Urban       </td><td>Y           </td></tr>\n",
       "\t<tr><th scope=row>6</th><td>LP001011    </td><td>Male        </td><td>Yes         </td><td>2           </td><td>Graduate    </td><td>Yes         </td><td> 5417       </td><td> 4196       </td><td>267         </td><td>360         </td><td>1           </td><td>Urban       </td><td>Y           </td></tr>\n",
       "\t<tr><th scope=row>7</th><td>LP001013    </td><td>Male        </td><td>Yes         </td><td>0           </td><td>Not Graduate</td><td>No          </td><td> 2333       </td><td> 1516       </td><td> 95         </td><td>360         </td><td>1           </td><td>Urban       </td><td>Y           </td></tr>\n",
       "\t<tr><th scope=row>8</th><td>LP001014    </td><td>Male        </td><td>Yes         </td><td>3+          </td><td>Graduate    </td><td>No          </td><td> 3036       </td><td> 2504       </td><td>158         </td><td>360         </td><td>0           </td><td>Semiurban   </td><td>N           </td></tr>\n",
       "\t<tr><th scope=row>9</th><td>LP001018    </td><td>Male        </td><td>Yes         </td><td>2           </td><td>Graduate    </td><td>No          </td><td> 4006       </td><td> 1526       </td><td>168         </td><td>360         </td><td>1           </td><td>Urban       </td><td>Y           </td></tr>\n",
       "\t<tr><th scope=row>10</th><td>LP001020    </td><td>Male        </td><td>Yes         </td><td>1           </td><td>Graduate    </td><td>No          </td><td>12841       </td><td>10968       </td><td>349         </td><td>360         </td><td>1           </td><td>Semiurban   </td><td>N           </td></tr>\n",
       "\t<tr><th scope=row>11</th><td>LP001024    </td><td>Male        </td><td>Yes         </td><td>2           </td><td>Graduate    </td><td>No          </td><td> 3200       </td><td>  700       </td><td> 70         </td><td>360         </td><td>1           </td><td>Urban       </td><td>Y           </td></tr>\n",
       "\t<tr><th scope=row>12</th><td>LP001027    </td><td>Male        </td><td>Yes         </td><td>2           </td><td>Graduate    </td><td>            </td><td> 2500       </td><td> 1840       </td><td>109         </td><td>360         </td><td>1           </td><td>Urban       </td><td>Y           </td></tr>\n",
       "\t<tr><th scope=row>13</th><td>LP001028    </td><td>Male        </td><td>Yes         </td><td>2           </td><td>Graduate    </td><td>No          </td><td> 3073       </td><td> 8106       </td><td>200         </td><td>360         </td><td>1           </td><td>Urban       </td><td>Y           </td></tr>\n",
       "\t<tr><th scope=row>14</th><td>LP001029    </td><td>Male        </td><td>No          </td><td>0           </td><td>Graduate    </td><td>No          </td><td> 1853       </td><td> 2840       </td><td>114         </td><td>360         </td><td>1           </td><td>Rural       </td><td>N           </td></tr>\n",
       "\t<tr><th scope=row>15</th><td>LP001030    </td><td>Male        </td><td>Yes         </td><td>2           </td><td>Graduate    </td><td>No          </td><td> 1299       </td><td> 1086       </td><td> 17         </td><td>120         </td><td>1           </td><td>Urban       </td><td>Y           </td></tr>\n",
       "\t<tr><th scope=row>16</th><td>LP001032    </td><td>Male        </td><td>No          </td><td>0           </td><td>Graduate    </td><td>No          </td><td> 4950       </td><td>    0       </td><td>125         </td><td>360         </td><td>1           </td><td>Urban       </td><td>Y           </td></tr>\n",
       "\t<tr><th scope=row>18</th><td>LP001036    </td><td>Female      </td><td>No          </td><td>0           </td><td>Graduate    </td><td>No          </td><td> 3510       </td><td>    0       </td><td> 76         </td><td>360         </td><td>0           </td><td>Urban       </td><td>N           </td></tr>\n",
       "\t<tr><th scope=row>19</th><td>LP001038    </td><td>Male        </td><td>Yes         </td><td>0           </td><td>Not Graduate</td><td>No          </td><td> 4887       </td><td>    0       </td><td>133         </td><td>360         </td><td>1           </td><td>Rural       </td><td>N           </td></tr>\n",
       "\t<tr><th scope=row>21</th><td>LP001043    </td><td>Male        </td><td>Yes         </td><td>0           </td><td>Not Graduate</td><td>No          </td><td> 7660       </td><td>    0       </td><td>104         </td><td>360         </td><td>0           </td><td>Urban       </td><td>N           </td></tr>\n",
       "\t<tr><th scope=row>22</th><td>LP001046    </td><td>Male        </td><td>Yes         </td><td>1           </td><td>Graduate    </td><td>No          </td><td> 5955       </td><td> 5625       </td><td>315         </td><td>360         </td><td>1           </td><td>Urban       </td><td>Y           </td></tr>\n",
       "\t<tr><th scope=row>23</th><td>LP001047    </td><td>Male        </td><td>Yes         </td><td>0           </td><td>Not Graduate</td><td>No          </td><td> 2600       </td><td> 1911       </td><td>116         </td><td>360         </td><td>0           </td><td>Semiurban   </td><td>N           </td></tr>\n",
       "\t<tr><th scope=row>24</th><td>LP001050    </td><td>            </td><td>Yes         </td><td>2           </td><td>Not Graduate</td><td>No          </td><td> 3365       </td><td> 1917       </td><td>112         </td><td>360         </td><td>0           </td><td>Rural       </td><td>N           </td></tr>\n",
       "\t<tr><th scope=row>26</th><td>LP001066    </td><td>Male        </td><td>Yes         </td><td>0           </td><td>Graduate    </td><td>Yes         </td><td> 9560       </td><td>    0       </td><td>191         </td><td>360         </td><td>1           </td><td>Semiurban   </td><td>Y           </td></tr>\n",
       "\t<tr><th scope=row>27</th><td>LP001068    </td><td>Male        </td><td>Yes         </td><td>0           </td><td>Graduate    </td><td>No          </td><td> 2799       </td><td> 2253       </td><td>122         </td><td>360         </td><td>1           </td><td>Semiurban   </td><td>Y           </td></tr>\n",
       "\t<tr><th scope=row>28</th><td>LP001073    </td><td>Male        </td><td>Yes         </td><td>2           </td><td>Not Graduate</td><td>No          </td><td> 4226       </td><td> 1040       </td><td>110         </td><td>360         </td><td>1           </td><td>Urban       </td><td>Y           </td></tr>\n",
       "\t<tr><th scope=row>29</th><td>LP001086    </td><td>Male        </td><td>No          </td><td>0           </td><td>Not Graduate</td><td>No          </td><td> 1442       </td><td>    0       </td><td> 35         </td><td>360         </td><td>1           </td><td>Urban       </td><td>N           </td></tr>\n",
       "\t<tr><th scope=row>30</th><td>LP001087    </td><td>Female      </td><td>No          </td><td>2           </td><td>Graduate    </td><td>            </td><td> 3750       </td><td> 2083       </td><td>120         </td><td>360         </td><td>1           </td><td>Semiurban   </td><td>Y           </td></tr>\n",
       "\t<tr><th scope=row>32</th><td>LP001095    </td><td>Male        </td><td>No          </td><td>0           </td><td>Graduate    </td><td>No          </td><td> 3167       </td><td>    0       </td><td> 74         </td><td>360         </td><td>1           </td><td>Urban       </td><td>N           </td></tr>\n",
       "\t<tr><th scope=row>33</th><td>LP001097    </td><td>Male        </td><td>No          </td><td>1           </td><td>Graduate    </td><td>Yes         </td><td> 4692       </td><td>    0       </td><td>106         </td><td>360         </td><td>1           </td><td>Rural       </td><td>N           </td></tr>\n",
       "\t<tr><th scope=row>34</th><td>LP001098    </td><td>Male        </td><td>Yes         </td><td>0           </td><td>Graduate    </td><td>No          </td><td> 3500       </td><td> 1667       </td><td>114         </td><td>360         </td><td>1           </td><td>Semiurban   </td><td>Y           </td></tr>\n",
       "\t<tr><th scope=row>35</th><td>LP001100    </td><td>Male        </td><td>No          </td><td>3+          </td><td>Graduate    </td><td>No          </td><td>12500       </td><td> 3000       </td><td>320         </td><td>360         </td><td>1           </td><td>Rural       </td><td>N           </td></tr>\n",
       "\t<tr><th scope=row>...</th><td>...</td><td>...</td><td>...</td><td>...</td><td>...</td><td>...</td><td>...</td><td>...</td><td>...</td><td>...</td><td>...</td><td>...</td><td>...</td></tr>\n",
       "\t<tr><th scope=row>582</th><td>LP002893    </td><td>Male        </td><td>No          </td><td>0           </td><td>Graduate    </td><td>No          </td><td> 1836       </td><td>33837       </td><td> 90         </td><td>360         </td><td>1           </td><td>Urban       </td><td>N           </td></tr>\n",
       "\t<tr><th scope=row>583</th><td>LP002894    </td><td>Female      </td><td>Yes         </td><td>0           </td><td>Graduate    </td><td>No          </td><td> 3166       </td><td>    0       </td><td> 36         </td><td>360         </td><td>1           </td><td>Semiurban   </td><td>Y           </td></tr>\n",
       "\t<tr><th scope=row>585</th><td>LP002911    </td><td>Male        </td><td>Yes         </td><td>1           </td><td>Graduate    </td><td>No          </td><td> 2787       </td><td> 1917       </td><td>146         </td><td>360         </td><td>0           </td><td>Rural       </td><td>N           </td></tr>\n",
       "\t<tr><th scope=row>586</th><td>LP002912    </td><td>Male        </td><td>Yes         </td><td>1           </td><td>Graduate    </td><td>No          </td><td> 4283       </td><td> 3000       </td><td>172         </td><td> 84         </td><td>1           </td><td>Rural       </td><td>N           </td></tr>\n",
       "\t<tr><th scope=row>587</th><td>LP002916    </td><td>Male        </td><td>Yes         </td><td>0           </td><td>Graduate    </td><td>No          </td><td> 2297       </td><td> 1522       </td><td>104         </td><td>360         </td><td>1           </td><td>Urban       </td><td>Y           </td></tr>\n",
       "\t<tr><th scope=row>588</th><td>LP002917    </td><td>Female      </td><td>No          </td><td>0           </td><td>Not Graduate</td><td>No          </td><td> 2165       </td><td>    0       </td><td> 70         </td><td>360         </td><td>1           </td><td>Semiurban   </td><td>Y           </td></tr>\n",
       "\t<tr><th scope=row>589</th><td>LP002925    </td><td>            </td><td>No          </td><td>0           </td><td>Graduate    </td><td>No          </td><td> 4750       </td><td>    0       </td><td> 94         </td><td>360         </td><td>1           </td><td>Semiurban   </td><td>Y           </td></tr>\n",
       "\t<tr><th scope=row>590</th><td>LP002926    </td><td>Male        </td><td>Yes         </td><td>2           </td><td>Graduate    </td><td>Yes         </td><td> 2726       </td><td>    0       </td><td>106         </td><td>360         </td><td>0           </td><td>Semiurban   </td><td>N           </td></tr>\n",
       "\t<tr><th scope=row>591</th><td>LP002928    </td><td>Male        </td><td>Yes         </td><td>0           </td><td>Graduate    </td><td>No          </td><td> 3000       </td><td> 3416       </td><td> 56         </td><td>180         </td><td>1           </td><td>Semiurban   </td><td>Y           </td></tr>\n",
       "\t<tr><th scope=row>592</th><td>LP002931    </td><td>Male        </td><td>Yes         </td><td>2           </td><td>Graduate    </td><td>Yes         </td><td> 6000       </td><td>    0       </td><td>205         </td><td>240         </td><td>1           </td><td>Semiurban   </td><td>N           </td></tr>\n",
       "\t<tr><th scope=row>593</th><td>LP002933    </td><td>            </td><td>No          </td><td>3+          </td><td>Graduate    </td><td>Yes         </td><td> 9357       </td><td>    0       </td><td>292         </td><td>360         </td><td>1           </td><td>Semiurban   </td><td>Y           </td></tr>\n",
       "\t<tr><th scope=row>594</th><td>LP002936    </td><td>Male        </td><td>Yes         </td><td>0           </td><td>Graduate    </td><td>No          </td><td> 3859       </td><td> 3300       </td><td>142         </td><td>180         </td><td>1           </td><td>Rural       </td><td>Y           </td></tr>\n",
       "\t<tr><th scope=row>595</th><td>LP002938    </td><td>Male        </td><td>Yes         </td><td>0           </td><td>Graduate    </td><td>Yes         </td><td>16120       </td><td>    0       </td><td>260         </td><td>360         </td><td>1           </td><td>Urban       </td><td>Y           </td></tr>\n",
       "\t<tr><th scope=row>596</th><td>LP002940    </td><td>Male        </td><td>No          </td><td>0           </td><td>Not Graduate</td><td>No          </td><td> 3833       </td><td>    0       </td><td>110         </td><td>360         </td><td>1           </td><td>Rural       </td><td>Y           </td></tr>\n",
       "\t<tr><th scope=row>597</th><td>LP002941    </td><td>Male        </td><td>Yes         </td><td>2           </td><td>Not Graduate</td><td>Yes         </td><td> 6383       </td><td> 1000       </td><td>187         </td><td>360         </td><td>1           </td><td>Rural       </td><td>N           </td></tr>\n",
       "\t<tr><th scope=row>598</th><td>LP002943    </td><td>Male        </td><td>No          </td><td>            </td><td>Graduate    </td><td>No          </td><td> 2987       </td><td>    0       </td><td> 88         </td><td>360         </td><td>0           </td><td>Semiurban   </td><td>N           </td></tr>\n",
       "\t<tr><th scope=row>599</th><td>LP002945    </td><td>Male        </td><td>Yes         </td><td>0           </td><td>Graduate    </td><td>Yes         </td><td> 9963       </td><td>    0       </td><td>180         </td><td>360         </td><td>1           </td><td>Rural       </td><td>Y           </td></tr>\n",
       "\t<tr><th scope=row>600</th><td>LP002948    </td><td>Male        </td><td>Yes         </td><td>2           </td><td>Graduate    </td><td>No          </td><td> 5780       </td><td>    0       </td><td>192         </td><td>360         </td><td>1           </td><td>Urban       </td><td>Y           </td></tr>\n",
       "\t<tr><th scope=row>602</th><td>LP002950    </td><td>Male        </td><td>Yes         </td><td>0           </td><td>Not Graduate</td><td>            </td><td> 2894       </td><td> 2792       </td><td>155         </td><td>360         </td><td>1           </td><td>Rural       </td><td>Y           </td></tr>\n",
       "\t<tr><th scope=row>603</th><td>LP002953    </td><td>Male        </td><td>Yes         </td><td>3+          </td><td>Graduate    </td><td>No          </td><td> 5703       </td><td>    0       </td><td>128         </td><td>360         </td><td>1           </td><td>Urban       </td><td>Y           </td></tr>\n",
       "\t<tr><th scope=row>604</th><td>LP002958    </td><td>Male        </td><td>No          </td><td>0           </td><td>Graduate    </td><td>No          </td><td> 3676       </td><td> 4301       </td><td>172         </td><td>360         </td><td>1           </td><td>Rural       </td><td>Y           </td></tr>\n",
       "\t<tr><th scope=row>605</th><td>LP002959    </td><td>Female      </td><td>Yes         </td><td>1           </td><td>Graduate    </td><td>No          </td><td>12000       </td><td>    0       </td><td>496         </td><td>360         </td><td>1           </td><td>Semiurban   </td><td>Y           </td></tr>\n",
       "\t<tr><th scope=row>607</th><td>LP002961    </td><td>Male        </td><td>Yes         </td><td>1           </td><td>Graduate    </td><td>No          </td><td> 3400       </td><td> 2500       </td><td>173         </td><td>360         </td><td>1           </td><td>Semiurban   </td><td>Y           </td></tr>\n",
       "\t<tr><th scope=row>608</th><td>LP002964    </td><td>Male        </td><td>Yes         </td><td>2           </td><td>Not Graduate</td><td>No          </td><td> 3987       </td><td> 1411       </td><td>157         </td><td>360         </td><td>1           </td><td>Rural       </td><td>Y           </td></tr>\n",
       "\t<tr><th scope=row>609</th><td>LP002974    </td><td>Male        </td><td>Yes         </td><td>0           </td><td>Graduate    </td><td>No          </td><td> 3232       </td><td> 1950       </td><td>108         </td><td>360         </td><td>1           </td><td>Rural       </td><td>Y           </td></tr>\n",
       "\t<tr><th scope=row>610</th><td>LP002978    </td><td>Female      </td><td>No          </td><td>0           </td><td>Graduate    </td><td>No          </td><td> 2900       </td><td>    0       </td><td> 71         </td><td>360         </td><td>1           </td><td>Rural       </td><td>Y           </td></tr>\n",
       "\t<tr><th scope=row>611</th><td>LP002979    </td><td>Male        </td><td>Yes         </td><td>3+          </td><td>Graduate    </td><td>No          </td><td> 4106       </td><td>    0       </td><td> 40         </td><td>180         </td><td>1           </td><td>Rural       </td><td>Y           </td></tr>\n",
       "\t<tr><th scope=row>612</th><td>LP002983    </td><td>Male        </td><td>Yes         </td><td>1           </td><td>Graduate    </td><td>No          </td><td> 8072       </td><td>  240       </td><td>253         </td><td>360         </td><td>1           </td><td>Urban       </td><td>Y           </td></tr>\n",
       "\t<tr><th scope=row>613</th><td>LP002984    </td><td>Male        </td><td>Yes         </td><td>2           </td><td>Graduate    </td><td>No          </td><td> 7583       </td><td>    0       </td><td>187         </td><td>360         </td><td>1           </td><td>Urban       </td><td>Y           </td></tr>\n",
       "\t<tr><th scope=row>614</th><td>LP002990    </td><td>Female      </td><td>No          </td><td>0           </td><td>Graduate    </td><td>Yes         </td><td> 4583       </td><td>    0       </td><td>133         </td><td>360         </td><td>0           </td><td>Semiurban   </td><td>N           </td></tr>\n",
       "</tbody>\n",
       "</table>\n"
      ],
      "text/latex": [
       "\\begin{tabular}{r|lllllllllllll}\n",
       "  & Loan\\_ID & Gender & Married & Dependents & Education & Self\\_Employed & ApplicantIncome & CoapplicantIncome & LoanAmount & Loan\\_Amount\\_Term & Credit\\_History & Property\\_Area & Loan\\_Status\\\\\n",
       "\\hline\n",
       "\t2 & LP001003     & Male         & Yes          & 1            & Graduate     & No           &  4583        &  1508        & 128          & 360          & 1            & Rural        & N           \\\\\n",
       "\t3 & LP001005     & Male         & Yes          & 0            & Graduate     & Yes          &  3000        &     0        &  66          & 360          & 1            & Urban        & Y           \\\\\n",
       "\t4 & LP001006     & Male         & Yes          & 0            & Not Graduate & No           &  2583        &  2358        & 120          & 360          & 1            & Urban        & Y           \\\\\n",
       "\t5 & LP001008     & Male         & No           & 0            & Graduate     & No           &  6000        &     0        & 141          & 360          & 1            & Urban        & Y           \\\\\n",
       "\t6 & LP001011     & Male         & Yes          & 2            & Graduate     & Yes          &  5417        &  4196        & 267          & 360          & 1            & Urban        & Y           \\\\\n",
       "\t7 & LP001013     & Male         & Yes          & 0            & Not Graduate & No           &  2333        &  1516        &  95          & 360          & 1            & Urban        & Y           \\\\\n",
       "\t8 & LP001014     & Male         & Yes          & 3+           & Graduate     & No           &  3036        &  2504        & 158          & 360          & 0            & Semiurban    & N           \\\\\n",
       "\t9 & LP001018     & Male         & Yes          & 2            & Graduate     & No           &  4006        &  1526        & 168          & 360          & 1            & Urban        & Y           \\\\\n",
       "\t10 & LP001020     & Male         & Yes          & 1            & Graduate     & No           & 12841        & 10968        & 349          & 360          & 1            & Semiurban    & N           \\\\\n",
       "\t11 & LP001024     & Male         & Yes          & 2            & Graduate     & No           &  3200        &   700        &  70          & 360          & 1            & Urban        & Y           \\\\\n",
       "\t12 & LP001027     & Male         & Yes          & 2            & Graduate     &              &  2500        &  1840        & 109          & 360          & 1            & Urban        & Y           \\\\\n",
       "\t13 & LP001028     & Male         & Yes          & 2            & Graduate     & No           &  3073        &  8106        & 200          & 360          & 1            & Urban        & Y           \\\\\n",
       "\t14 & LP001029     & Male         & No           & 0            & Graduate     & No           &  1853        &  2840        & 114          & 360          & 1            & Rural        & N           \\\\\n",
       "\t15 & LP001030     & Male         & Yes          & 2            & Graduate     & No           &  1299        &  1086        &  17          & 120          & 1            & Urban        & Y           \\\\\n",
       "\t16 & LP001032     & Male         & No           & 0            & Graduate     & No           &  4950        &     0        & 125          & 360          & 1            & Urban        & Y           \\\\\n",
       "\t18 & LP001036     & Female       & No           & 0            & Graduate     & No           &  3510        &     0        &  76          & 360          & 0            & Urban        & N           \\\\\n",
       "\t19 & LP001038     & Male         & Yes          & 0            & Not Graduate & No           &  4887        &     0        & 133          & 360          & 1            & Rural        & N           \\\\\n",
       "\t21 & LP001043     & Male         & Yes          & 0            & Not Graduate & No           &  7660        &     0        & 104          & 360          & 0            & Urban        & N           \\\\\n",
       "\t22 & LP001046     & Male         & Yes          & 1            & Graduate     & No           &  5955        &  5625        & 315          & 360          & 1            & Urban        & Y           \\\\\n",
       "\t23 & LP001047     & Male         & Yes          & 0            & Not Graduate & No           &  2600        &  1911        & 116          & 360          & 0            & Semiurban    & N           \\\\\n",
       "\t24 & LP001050     &              & Yes          & 2            & Not Graduate & No           &  3365        &  1917        & 112          & 360          & 0            & Rural        & N           \\\\\n",
       "\t26 & LP001066     & Male         & Yes          & 0            & Graduate     & Yes          &  9560        &     0        & 191          & 360          & 1            & Semiurban    & Y           \\\\\n",
       "\t27 & LP001068     & Male         & Yes          & 0            & Graduate     & No           &  2799        &  2253        & 122          & 360          & 1            & Semiurban    & Y           \\\\\n",
       "\t28 & LP001073     & Male         & Yes          & 2            & Not Graduate & No           &  4226        &  1040        & 110          & 360          & 1            & Urban        & Y           \\\\\n",
       "\t29 & LP001086     & Male         & No           & 0            & Not Graduate & No           &  1442        &     0        &  35          & 360          & 1            & Urban        & N           \\\\\n",
       "\t30 & LP001087     & Female       & No           & 2            & Graduate     &              &  3750        &  2083        & 120          & 360          & 1            & Semiurban    & Y           \\\\\n",
       "\t32 & LP001095     & Male         & No           & 0            & Graduate     & No           &  3167        &     0        &  74          & 360          & 1            & Urban        & N           \\\\\n",
       "\t33 & LP001097     & Male         & No           & 1            & Graduate     & Yes          &  4692        &     0        & 106          & 360          & 1            & Rural        & N           \\\\\n",
       "\t34 & LP001098     & Male         & Yes          & 0            & Graduate     & No           &  3500        &  1667        & 114          & 360          & 1            & Semiurban    & Y           \\\\\n",
       "\t35 & LP001100     & Male         & No           & 3+           & Graduate     & No           & 12500        &  3000        & 320          & 360          & 1            & Rural        & N           \\\\\n",
       "\t... & ... & ... & ... & ... & ... & ... & ... & ... & ... & ... & ... & ... & ...\\\\\n",
       "\t582 & LP002893     & Male         & No           & 0            & Graduate     & No           &  1836        & 33837        &  90          & 360          & 1            & Urban        & N           \\\\\n",
       "\t583 & LP002894     & Female       & Yes          & 0            & Graduate     & No           &  3166        &     0        &  36          & 360          & 1            & Semiurban    & Y           \\\\\n",
       "\t585 & LP002911     & Male         & Yes          & 1            & Graduate     & No           &  2787        &  1917        & 146          & 360          & 0            & Rural        & N           \\\\\n",
       "\t586 & LP002912     & Male         & Yes          & 1            & Graduate     & No           &  4283        &  3000        & 172          &  84          & 1            & Rural        & N           \\\\\n",
       "\t587 & LP002916     & Male         & Yes          & 0            & Graduate     & No           &  2297        &  1522        & 104          & 360          & 1            & Urban        & Y           \\\\\n",
       "\t588 & LP002917     & Female       & No           & 0            & Not Graduate & No           &  2165        &     0        &  70          & 360          & 1            & Semiurban    & Y           \\\\\n",
       "\t589 & LP002925     &              & No           & 0            & Graduate     & No           &  4750        &     0        &  94          & 360          & 1            & Semiurban    & Y           \\\\\n",
       "\t590 & LP002926     & Male         & Yes          & 2            & Graduate     & Yes          &  2726        &     0        & 106          & 360          & 0            & Semiurban    & N           \\\\\n",
       "\t591 & LP002928     & Male         & Yes          & 0            & Graduate     & No           &  3000        &  3416        &  56          & 180          & 1            & Semiurban    & Y           \\\\\n",
       "\t592 & LP002931     & Male         & Yes          & 2            & Graduate     & Yes          &  6000        &     0        & 205          & 240          & 1            & Semiurban    & N           \\\\\n",
       "\t593 & LP002933     &              & No           & 3+           & Graduate     & Yes          &  9357        &     0        & 292          & 360          & 1            & Semiurban    & Y           \\\\\n",
       "\t594 & LP002936     & Male         & Yes          & 0            & Graduate     & No           &  3859        &  3300        & 142          & 180          & 1            & Rural        & Y           \\\\\n",
       "\t595 & LP002938     & Male         & Yes          & 0            & Graduate     & Yes          & 16120        &     0        & 260          & 360          & 1            & Urban        & Y           \\\\\n",
       "\t596 & LP002940     & Male         & No           & 0            & Not Graduate & No           &  3833        &     0        & 110          & 360          & 1            & Rural        & Y           \\\\\n",
       "\t597 & LP002941     & Male         & Yes          & 2            & Not Graduate & Yes          &  6383        &  1000        & 187          & 360          & 1            & Rural        & N           \\\\\n",
       "\t598 & LP002943     & Male         & No           &              & Graduate     & No           &  2987        &     0        &  88          & 360          & 0            & Semiurban    & N           \\\\\n",
       "\t599 & LP002945     & Male         & Yes          & 0            & Graduate     & Yes          &  9963        &     0        & 180          & 360          & 1            & Rural        & Y           \\\\\n",
       "\t600 & LP002948     & Male         & Yes          & 2            & Graduate     & No           &  5780        &     0        & 192          & 360          & 1            & Urban        & Y           \\\\\n",
       "\t602 & LP002950     & Male         & Yes          & 0            & Not Graduate &              &  2894        &  2792        & 155          & 360          & 1            & Rural        & Y           \\\\\n",
       "\t603 & LP002953     & Male         & Yes          & 3+           & Graduate     & No           &  5703        &     0        & 128          & 360          & 1            & Urban        & Y           \\\\\n",
       "\t604 & LP002958     & Male         & No           & 0            & Graduate     & No           &  3676        &  4301        & 172          & 360          & 1            & Rural        & Y           \\\\\n",
       "\t605 & LP002959     & Female       & Yes          & 1            & Graduate     & No           & 12000        &     0        & 496          & 360          & 1            & Semiurban    & Y           \\\\\n",
       "\t607 & LP002961     & Male         & Yes          & 1            & Graduate     & No           &  3400        &  2500        & 173          & 360          & 1            & Semiurban    & Y           \\\\\n",
       "\t608 & LP002964     & Male         & Yes          & 2            & Not Graduate & No           &  3987        &  1411        & 157          & 360          & 1            & Rural        & Y           \\\\\n",
       "\t609 & LP002974     & Male         & Yes          & 0            & Graduate     & No           &  3232        &  1950        & 108          & 360          & 1            & Rural        & Y           \\\\\n",
       "\t610 & LP002978     & Female       & No           & 0            & Graduate     & No           &  2900        &     0        &  71          & 360          & 1            & Rural        & Y           \\\\\n",
       "\t611 & LP002979     & Male         & Yes          & 3+           & Graduate     & No           &  4106        &     0        &  40          & 180          & 1            & Rural        & Y           \\\\\n",
       "\t612 & LP002983     & Male         & Yes          & 1            & Graduate     & No           &  8072        &   240        & 253          & 360          & 1            & Urban        & Y           \\\\\n",
       "\t613 & LP002984     & Male         & Yes          & 2            & Graduate     & No           &  7583        &     0        & 187          & 360          & 1            & Urban        & Y           \\\\\n",
       "\t614 & LP002990     & Female       & No           & 0            & Graduate     & Yes          &  4583        &     0        & 133          & 360          & 0            & Semiurban    & N           \\\\\n",
       "\\end{tabular}\n"
      ],
      "text/markdown": [
       "\n",
       "| <!--/--> | Loan_ID | Gender | Married | Dependents | Education | Self_Employed | ApplicantIncome | CoapplicantIncome | LoanAmount | Loan_Amount_Term | Credit_History | Property_Area | Loan_Status |\n",
       "|---|---|---|---|---|---|---|---|---|---|---|---|---|---|\n",
       "| 2 | LP001003     | Male         | Yes          | 1            | Graduate     | No           |  4583        |  1508        | 128          | 360          | 1            | Rural        | N            |\n",
       "| 3 | LP001005     | Male         | Yes          | 0            | Graduate     | Yes          |  3000        |     0        |  66          | 360          | 1            | Urban        | Y            |\n",
       "| 4 | LP001006     | Male         | Yes          | 0            | Not Graduate | No           |  2583        |  2358        | 120          | 360          | 1            | Urban        | Y            |\n",
       "| 5 | LP001008     | Male         | No           | 0            | Graduate     | No           |  6000        |     0        | 141          | 360          | 1            | Urban        | Y            |\n",
       "| 6 | LP001011     | Male         | Yes          | 2            | Graduate     | Yes          |  5417        |  4196        | 267          | 360          | 1            | Urban        | Y            |\n",
       "| 7 | LP001013     | Male         | Yes          | 0            | Not Graduate | No           |  2333        |  1516        |  95          | 360          | 1            | Urban        | Y            |\n",
       "| 8 | LP001014     | Male         | Yes          | 3+           | Graduate     | No           |  3036        |  2504        | 158          | 360          | 0            | Semiurban    | N            |\n",
       "| 9 | LP001018     | Male         | Yes          | 2            | Graduate     | No           |  4006        |  1526        | 168          | 360          | 1            | Urban        | Y            |\n",
       "| 10 | LP001020     | Male         | Yes          | 1            | Graduate     | No           | 12841        | 10968        | 349          | 360          | 1            | Semiurban    | N            |\n",
       "| 11 | LP001024     | Male         | Yes          | 2            | Graduate     | No           |  3200        |   700        |  70          | 360          | 1            | Urban        | Y            |\n",
       "| 12 | LP001027     | Male         | Yes          | 2            | Graduate     |              |  2500        |  1840        | 109          | 360          | 1            | Urban        | Y            |\n",
       "| 13 | LP001028     | Male         | Yes          | 2            | Graduate     | No           |  3073        |  8106        | 200          | 360          | 1            | Urban        | Y            |\n",
       "| 14 | LP001029     | Male         | No           | 0            | Graduate     | No           |  1853        |  2840        | 114          | 360          | 1            | Rural        | N            |\n",
       "| 15 | LP001030     | Male         | Yes          | 2            | Graduate     | No           |  1299        |  1086        |  17          | 120          | 1            | Urban        | Y            |\n",
       "| 16 | LP001032     | Male         | No           | 0            | Graduate     | No           |  4950        |     0        | 125          | 360          | 1            | Urban        | Y            |\n",
       "| 18 | LP001036     | Female       | No           | 0            | Graduate     | No           |  3510        |     0        |  76          | 360          | 0            | Urban        | N            |\n",
       "| 19 | LP001038     | Male         | Yes          | 0            | Not Graduate | No           |  4887        |     0        | 133          | 360          | 1            | Rural        | N            |\n",
       "| 21 | LP001043     | Male         | Yes          | 0            | Not Graduate | No           |  7660        |     0        | 104          | 360          | 0            | Urban        | N            |\n",
       "| 22 | LP001046     | Male         | Yes          | 1            | Graduate     | No           |  5955        |  5625        | 315          | 360          | 1            | Urban        | Y            |\n",
       "| 23 | LP001047     | Male         | Yes          | 0            | Not Graduate | No           |  2600        |  1911        | 116          | 360          | 0            | Semiurban    | N            |\n",
       "| 24 | LP001050     |              | Yes          | 2            | Not Graduate | No           |  3365        |  1917        | 112          | 360          | 0            | Rural        | N            |\n",
       "| 26 | LP001066     | Male         | Yes          | 0            | Graduate     | Yes          |  9560        |     0        | 191          | 360          | 1            | Semiurban    | Y            |\n",
       "| 27 | LP001068     | Male         | Yes          | 0            | Graduate     | No           |  2799        |  2253        | 122          | 360          | 1            | Semiurban    | Y            |\n",
       "| 28 | LP001073     | Male         | Yes          | 2            | Not Graduate | No           |  4226        |  1040        | 110          | 360          | 1            | Urban        | Y            |\n",
       "| 29 | LP001086     | Male         | No           | 0            | Not Graduate | No           |  1442        |     0        |  35          | 360          | 1            | Urban        | N            |\n",
       "| 30 | LP001087     | Female       | No           | 2            | Graduate     |              |  3750        |  2083        | 120          | 360          | 1            | Semiurban    | Y            |\n",
       "| 32 | LP001095     | Male         | No           | 0            | Graduate     | No           |  3167        |     0        |  74          | 360          | 1            | Urban        | N            |\n",
       "| 33 | LP001097     | Male         | No           | 1            | Graduate     | Yes          |  4692        |     0        | 106          | 360          | 1            | Rural        | N            |\n",
       "| 34 | LP001098     | Male         | Yes          | 0            | Graduate     | No           |  3500        |  1667        | 114          | 360          | 1            | Semiurban    | Y            |\n",
       "| 35 | LP001100     | Male         | No           | 3+           | Graduate     | No           | 12500        |  3000        | 320          | 360          | 1            | Rural        | N            |\n",
       "| ... | ... | ... | ... | ... | ... | ... | ... | ... | ... | ... | ... | ... | ... |\n",
       "| 582 | LP002893     | Male         | No           | 0            | Graduate     | No           |  1836        | 33837        |  90          | 360          | 1            | Urban        | N            |\n",
       "| 583 | LP002894     | Female       | Yes          | 0            | Graduate     | No           |  3166        |     0        |  36          | 360          | 1            | Semiurban    | Y            |\n",
       "| 585 | LP002911     | Male         | Yes          | 1            | Graduate     | No           |  2787        |  1917        | 146          | 360          | 0            | Rural        | N            |\n",
       "| 586 | LP002912     | Male         | Yes          | 1            | Graduate     | No           |  4283        |  3000        | 172          |  84          | 1            | Rural        | N            |\n",
       "| 587 | LP002916     | Male         | Yes          | 0            | Graduate     | No           |  2297        |  1522        | 104          | 360          | 1            | Urban        | Y            |\n",
       "| 588 | LP002917     | Female       | No           | 0            | Not Graduate | No           |  2165        |     0        |  70          | 360          | 1            | Semiurban    | Y            |\n",
       "| 589 | LP002925     |              | No           | 0            | Graduate     | No           |  4750        |     0        |  94          | 360          | 1            | Semiurban    | Y            |\n",
       "| 590 | LP002926     | Male         | Yes          | 2            | Graduate     | Yes          |  2726        |     0        | 106          | 360          | 0            | Semiurban    | N            |\n",
       "| 591 | LP002928     | Male         | Yes          | 0            | Graduate     | No           |  3000        |  3416        |  56          | 180          | 1            | Semiurban    | Y            |\n",
       "| 592 | LP002931     | Male         | Yes          | 2            | Graduate     | Yes          |  6000        |     0        | 205          | 240          | 1            | Semiurban    | N            |\n",
       "| 593 | LP002933     |              | No           | 3+           | Graduate     | Yes          |  9357        |     0        | 292          | 360          | 1            | Semiurban    | Y            |\n",
       "| 594 | LP002936     | Male         | Yes          | 0            | Graduate     | No           |  3859        |  3300        | 142          | 180          | 1            | Rural        | Y            |\n",
       "| 595 | LP002938     | Male         | Yes          | 0            | Graduate     | Yes          | 16120        |     0        | 260          | 360          | 1            | Urban        | Y            |\n",
       "| 596 | LP002940     | Male         | No           | 0            | Not Graduate | No           |  3833        |     0        | 110          | 360          | 1            | Rural        | Y            |\n",
       "| 597 | LP002941     | Male         | Yes          | 2            | Not Graduate | Yes          |  6383        |  1000        | 187          | 360          | 1            | Rural        | N            |\n",
       "| 598 | LP002943     | Male         | No           |              | Graduate     | No           |  2987        |     0        |  88          | 360          | 0            | Semiurban    | N            |\n",
       "| 599 | LP002945     | Male         | Yes          | 0            | Graduate     | Yes          |  9963        |     0        | 180          | 360          | 1            | Rural        | Y            |\n",
       "| 600 | LP002948     | Male         | Yes          | 2            | Graduate     | No           |  5780        |     0        | 192          | 360          | 1            | Urban        | Y            |\n",
       "| 602 | LP002950     | Male         | Yes          | 0            | Not Graduate |              |  2894        |  2792        | 155          | 360          | 1            | Rural        | Y            |\n",
       "| 603 | LP002953     | Male         | Yes          | 3+           | Graduate     | No           |  5703        |     0        | 128          | 360          | 1            | Urban        | Y            |\n",
       "| 604 | LP002958     | Male         | No           | 0            | Graduate     | No           |  3676        |  4301        | 172          | 360          | 1            | Rural        | Y            |\n",
       "| 605 | LP002959     | Female       | Yes          | 1            | Graduate     | No           | 12000        |     0        | 496          | 360          | 1            | Semiurban    | Y            |\n",
       "| 607 | LP002961     | Male         | Yes          | 1            | Graduate     | No           |  3400        |  2500        | 173          | 360          | 1            | Semiurban    | Y            |\n",
       "| 608 | LP002964     | Male         | Yes          | 2            | Not Graduate | No           |  3987        |  1411        | 157          | 360          | 1            | Rural        | Y            |\n",
       "| 609 | LP002974     | Male         | Yes          | 0            | Graduate     | No           |  3232        |  1950        | 108          | 360          | 1            | Rural        | Y            |\n",
       "| 610 | LP002978     | Female       | No           | 0            | Graduate     | No           |  2900        |     0        |  71          | 360          | 1            | Rural        | Y            |\n",
       "| 611 | LP002979     | Male         | Yes          | 3+           | Graduate     | No           |  4106        |     0        |  40          | 180          | 1            | Rural        | Y            |\n",
       "| 612 | LP002983     | Male         | Yes          | 1            | Graduate     | No           |  8072        |   240        | 253          | 360          | 1            | Urban        | Y            |\n",
       "| 613 | LP002984     | Male         | Yes          | 2            | Graduate     | No           |  7583        |     0        | 187          | 360          | 1            | Urban        | Y            |\n",
       "| 614 | LP002990     | Female       | No           | 0            | Graduate     | Yes          |  4583        |     0        | 133          | 360          | 0            | Semiurban    | N            |\n",
       "\n"
      ],
      "text/plain": [
       "    Loan_ID  Gender Married Dependents Education    Self_Employed\n",
       "2   LP001003 Male   Yes     1          Graduate     No           \n",
       "3   LP001005 Male   Yes     0          Graduate     Yes          \n",
       "4   LP001006 Male   Yes     0          Not Graduate No           \n",
       "5   LP001008 Male   No      0          Graduate     No           \n",
       "6   LP001011 Male   Yes     2          Graduate     Yes          \n",
       "7   LP001013 Male   Yes     0          Not Graduate No           \n",
       "8   LP001014 Male   Yes     3+         Graduate     No           \n",
       "9   LP001018 Male   Yes     2          Graduate     No           \n",
       "10  LP001020 Male   Yes     1          Graduate     No           \n",
       "11  LP001024 Male   Yes     2          Graduate     No           \n",
       "12  LP001027 Male   Yes     2          Graduate                  \n",
       "13  LP001028 Male   Yes     2          Graduate     No           \n",
       "14  LP001029 Male   No      0          Graduate     No           \n",
       "15  LP001030 Male   Yes     2          Graduate     No           \n",
       "16  LP001032 Male   No      0          Graduate     No           \n",
       "18  LP001036 Female No      0          Graduate     No           \n",
       "19  LP001038 Male   Yes     0          Not Graduate No           \n",
       "21  LP001043 Male   Yes     0          Not Graduate No           \n",
       "22  LP001046 Male   Yes     1          Graduate     No           \n",
       "23  LP001047 Male   Yes     0          Not Graduate No           \n",
       "24  LP001050        Yes     2          Not Graduate No           \n",
       "26  LP001066 Male   Yes     0          Graduate     Yes          \n",
       "27  LP001068 Male   Yes     0          Graduate     No           \n",
       "28  LP001073 Male   Yes     2          Not Graduate No           \n",
       "29  LP001086 Male   No      0          Not Graduate No           \n",
       "30  LP001087 Female No      2          Graduate                  \n",
       "32  LP001095 Male   No      0          Graduate     No           \n",
       "33  LP001097 Male   No      1          Graduate     Yes          \n",
       "34  LP001098 Male   Yes     0          Graduate     No           \n",
       "35  LP001100 Male   No      3+         Graduate     No           \n",
       "... ...      ...    ...     ...        ...          ...          \n",
       "582 LP002893 Male   No      0          Graduate     No           \n",
       "583 LP002894 Female Yes     0          Graduate     No           \n",
       "585 LP002911 Male   Yes     1          Graduate     No           \n",
       "586 LP002912 Male   Yes     1          Graduate     No           \n",
       "587 LP002916 Male   Yes     0          Graduate     No           \n",
       "588 LP002917 Female No      0          Not Graduate No           \n",
       "589 LP002925        No      0          Graduate     No           \n",
       "590 LP002926 Male   Yes     2          Graduate     Yes          \n",
       "591 LP002928 Male   Yes     0          Graduate     No           \n",
       "592 LP002931 Male   Yes     2          Graduate     Yes          \n",
       "593 LP002933        No      3+         Graduate     Yes          \n",
       "594 LP002936 Male   Yes     0          Graduate     No           \n",
       "595 LP002938 Male   Yes     0          Graduate     Yes          \n",
       "596 LP002940 Male   No      0          Not Graduate No           \n",
       "597 LP002941 Male   Yes     2          Not Graduate Yes          \n",
       "598 LP002943 Male   No                 Graduate     No           \n",
       "599 LP002945 Male   Yes     0          Graduate     Yes          \n",
       "600 LP002948 Male   Yes     2          Graduate     No           \n",
       "602 LP002950 Male   Yes     0          Not Graduate              \n",
       "603 LP002953 Male   Yes     3+         Graduate     No           \n",
       "604 LP002958 Male   No      0          Graduate     No           \n",
       "605 LP002959 Female Yes     1          Graduate     No           \n",
       "607 LP002961 Male   Yes     1          Graduate     No           \n",
       "608 LP002964 Male   Yes     2          Not Graduate No           \n",
       "609 LP002974 Male   Yes     0          Graduate     No           \n",
       "610 LP002978 Female No      0          Graduate     No           \n",
       "611 LP002979 Male   Yes     3+         Graduate     No           \n",
       "612 LP002983 Male   Yes     1          Graduate     No           \n",
       "613 LP002984 Male   Yes     2          Graduate     No           \n",
       "614 LP002990 Female No      0          Graduate     Yes          \n",
       "    ApplicantIncome CoapplicantIncome LoanAmount Loan_Amount_Term\n",
       "2    4583            1508             128        360             \n",
       "3    3000               0              66        360             \n",
       "4    2583            2358             120        360             \n",
       "5    6000               0             141        360             \n",
       "6    5417            4196             267        360             \n",
       "7    2333            1516              95        360             \n",
       "8    3036            2504             158        360             \n",
       "9    4006            1526             168        360             \n",
       "10  12841           10968             349        360             \n",
       "11   3200             700              70        360             \n",
       "12   2500            1840             109        360             \n",
       "13   3073            8106             200        360             \n",
       "14   1853            2840             114        360             \n",
       "15   1299            1086              17        120             \n",
       "16   4950               0             125        360             \n",
       "18   3510               0              76        360             \n",
       "19   4887               0             133        360             \n",
       "21   7660               0             104        360             \n",
       "22   5955            5625             315        360             \n",
       "23   2600            1911             116        360             \n",
       "24   3365            1917             112        360             \n",
       "26   9560               0             191        360             \n",
       "27   2799            2253             122        360             \n",
       "28   4226            1040             110        360             \n",
       "29   1442               0              35        360             \n",
       "30   3750            2083             120        360             \n",
       "32   3167               0              74        360             \n",
       "33   4692               0             106        360             \n",
       "34   3500            1667             114        360             \n",
       "35  12500            3000             320        360             \n",
       "... ...             ...               ...        ...             \n",
       "582  1836           33837              90        360             \n",
       "583  3166               0              36        360             \n",
       "585  2787            1917             146        360             \n",
       "586  4283            3000             172         84             \n",
       "587  2297            1522             104        360             \n",
       "588  2165               0              70        360             \n",
       "589  4750               0              94        360             \n",
       "590  2726               0             106        360             \n",
       "591  3000            3416              56        180             \n",
       "592  6000               0             205        240             \n",
       "593  9357               0             292        360             \n",
       "594  3859            3300             142        180             \n",
       "595 16120               0             260        360             \n",
       "596  3833               0             110        360             \n",
       "597  6383            1000             187        360             \n",
       "598  2987               0              88        360             \n",
       "599  9963               0             180        360             \n",
       "600  5780               0             192        360             \n",
       "602  2894            2792             155        360             \n",
       "603  5703               0             128        360             \n",
       "604  3676            4301             172        360             \n",
       "605 12000               0             496        360             \n",
       "607  3400            2500             173        360             \n",
       "608  3987            1411             157        360             \n",
       "609  3232            1950             108        360             \n",
       "610  2900               0              71        360             \n",
       "611  4106               0              40        180             \n",
       "612  8072             240             253        360             \n",
       "613  7583               0             187        360             \n",
       "614  4583               0             133        360             \n",
       "    Credit_History Property_Area Loan_Status\n",
       "2   1              Rural         N          \n",
       "3   1              Urban         Y          \n",
       "4   1              Urban         Y          \n",
       "5   1              Urban         Y          \n",
       "6   1              Urban         Y          \n",
       "7   1              Urban         Y          \n",
       "8   0              Semiurban     N          \n",
       "9   1              Urban         Y          \n",
       "10  1              Semiurban     N          \n",
       "11  1              Urban         Y          \n",
       "12  1              Urban         Y          \n",
       "13  1              Urban         Y          \n",
       "14  1              Rural         N          \n",
       "15  1              Urban         Y          \n",
       "16  1              Urban         Y          \n",
       "18  0              Urban         N          \n",
       "19  1              Rural         N          \n",
       "21  0              Urban         N          \n",
       "22  1              Urban         Y          \n",
       "23  0              Semiurban     N          \n",
       "24  0              Rural         N          \n",
       "26  1              Semiurban     Y          \n",
       "27  1              Semiurban     Y          \n",
       "28  1              Urban         Y          \n",
       "29  1              Urban         N          \n",
       "30  1              Semiurban     Y          \n",
       "32  1              Urban         N          \n",
       "33  1              Rural         N          \n",
       "34  1              Semiurban     Y          \n",
       "35  1              Rural         N          \n",
       "... ...            ...           ...        \n",
       "582 1              Urban         N          \n",
       "583 1              Semiurban     Y          \n",
       "585 0              Rural         N          \n",
       "586 1              Rural         N          \n",
       "587 1              Urban         Y          \n",
       "588 1              Semiurban     Y          \n",
       "589 1              Semiurban     Y          \n",
       "590 0              Semiurban     N          \n",
       "591 1              Semiurban     Y          \n",
       "592 1              Semiurban     N          \n",
       "593 1              Semiurban     Y          \n",
       "594 1              Rural         Y          \n",
       "595 1              Urban         Y          \n",
       "596 1              Rural         Y          \n",
       "597 1              Rural         N          \n",
       "598 0              Semiurban     N          \n",
       "599 1              Rural         Y          \n",
       "600 1              Urban         Y          \n",
       "602 1              Rural         Y          \n",
       "603 1              Urban         Y          \n",
       "604 1              Rural         Y          \n",
       "605 1              Semiurban     Y          \n",
       "607 1              Semiurban     Y          \n",
       "608 1              Rural         Y          \n",
       "609 1              Rural         Y          \n",
       "610 1              Rural         Y          \n",
       "611 1              Rural         Y          \n",
       "612 1              Urban         Y          \n",
       "613 1              Urban         Y          \n",
       "614 0              Semiurban     N          "
      ]
     },
     "metadata": {},
     "output_type": "display_data"
    }
   ],
   "source": [
    "# 1-d Data Pre-processing for R\n",
    "# - handle null values, categorical data, missing data..etc.\n",
    "na.omit(data_set)\n"
   ]
  },
  {
   "cell_type": "markdown",
   "id": "e4fd1551",
   "metadata": {},
   "source": [
    "na.omit function  Handles Missing Values in Objects"
   ]
  },
  {
   "cell_type": "markdown",
   "id": "7e386d61",
   "metadata": {},
   "source": [
    "# Task 2: Aggregation & Filtering & Rank (30 points)"
   ]
  },
  {
   "cell_type": "code",
   "execution_count": 10,
   "id": "eb19feff",
   "metadata": {
    "scrolled": false
   },
   "outputs": [
    {
     "name": "stdout",
     "output_type": "stream",
     "text": [
      "[1] \"Number of female graduates from Semiurban area : \"\n",
      "[1] 45\n"
     ]
    }
   ],
   "source": [
    "# Task 2-a: Find out the number of female graduates from Semiurban area\n",
    "\n",
    "num_of_femalegrads_from_semiurban <- nrow(data_set[data_set$Gender == 'Female' & data_set$Property_Area == 'Semiurban' & data_set$Education == 'Graduate',])\n",
    "print(\"Number of female graduates from Semiurban area : \")\n",
    "print(num_of_femalegrads_from_semiurban)\n",
    "\n",
    "\n"
   ]
  },
  {
   "cell_type": "markdown",
   "id": "6c9bf2c0",
   "metadata": {},
   "source": [
    "* nrow - provides the number of female graduates who are from semiurban area in given dataset"
   ]
  },
  {
   "cell_type": "code",
   "execution_count": null,
   "id": "53a03306",
   "metadata": {},
   "outputs": [],
   "source": []
  },
  {
   "cell_type": "code",
   "execution_count": 11,
   "id": "4488bf58",
   "metadata": {},
   "outputs": [
    {
     "name": "stdout",
     "output_type": "stream",
     "text": [
      "[1] \"Number of men with more than 3 dependents who did not graduate with self employment\"\n",
      "[1] 3\n"
     ]
    }
   ],
   "source": [
    "# Task 2-b: Determine the overall number of men with more than 3 Dependents, who did not graduate with Self employment\n",
    "no_of_rows <- nrow(data_set[data_set$Gender =='Male' & data_set$Dependents == \"3+\" & data_set$Education == 'Not Graduate' & data_set$Self_Employed == 'Yes',])\n",
    "print(\"Number of men with more than 3 dependents who did not graduate with self employment\")\n",
    "print(no_of_rows)"
   ]
  },
  {
   "cell_type": "markdown",
   "id": "49207df6",
   "metadata": {},
   "source": [
    "* There are 3 men with more than 3 dependentdwho did not graduate with self employment"
   ]
  },
  {
   "cell_type": "markdown",
   "id": "d2de0251",
   "metadata": {},
   "source": []
  },
  {
   "cell_type": "code",
   "execution_count": 13,
   "id": "cb6ce750",
   "metadata": {
    "scrolled": true
   },
   "outputs": [
    {
     "name": "stdout",
     "output_type": "stream",
     "text": [
      "[1] \"top 10 non-married female applicants who graduated with self employment and had the highest applicant income:\"\n",
      "     Loan_ID Gender Married Dependents Education Self_Employed ApplicantIncome\n",
      "371 LP002194 Female      No          0  Graduate           Yes           15759\n",
      "431 LP002377 Female      No          1  Graduate           Yes            8624\n",
      "114 LP001392 Female      No          1  Graduate           Yes            7451\n",
      "405 LP002301 Female      No          0  Graduate           Yes            7441\n",
      "614 LP002990 Female      No          0  Graduate           Yes            4583\n",
      "238 LP001788 Female      No          0  Graduate           Yes            3463\n",
      "287 LP001925 Female      No          0  Graduate           Yes            2600\n",
      "474 LP002522 Female      No          0  Graduate           Yes            2500\n",
      "    CoapplicantIncome LoanAmount Loan_Amount_Term Credit_History Property_Area\n",
      "371                 0         55              360              1     Semiurban\n",
      "431                 0        150              360              1     Semiurban\n",
      "114                 0         NA              360              1     Semiurban\n",
      "405                 0        194              360              1         Rural\n",
      "614                 0        133              360              0     Semiurban\n",
      "238                 0        122              360             NA         Urban\n",
      "287              1717         99              300              1     Semiurban\n",
      "474                 0         93              360             NA         Urban\n",
      "    Loan_Status\n",
      "371           Y\n",
      "431           Y\n",
      "114           Y\n",
      "405           N\n",
      "614           N\n",
      "238           Y\n",
      "287           N\n",
      "474           Y\n"
     ]
    }
   ],
   "source": [
    "# Task 2-c: Find the top 10 non-married female applicants who graduated with self employment and had the highest applicant income\n",
    "df <- subset(data_set, Gender == 'Female' & Education == 'Graduate' & Self_Employed == 'Yes' & Married != 'Yes')\n",
    "df_temp_income <- df[order(df$ApplicantIncome, decreasing = TRUE),]\n",
    "print(\"top 10 non-married female applicants who graduated with self employment and had the highest applicant income:\")\n",
    "print(head(df_temp_income, 10))"
   ]
  },
  {
   "cell_type": "markdown",
   "id": "8c0ad8b6",
   "metadata": {},
   "source": [
    "* Output provides top 10 non-married female applicants who graduated with self employment and had the highest applicant income\n",
    "\n",
    "* Order is used to sort in descending order to get top 10 highest applicant income"
   ]
  },
  {
   "cell_type": "markdown",
   "id": "f322436a",
   "metadata": {},
   "source": []
  },
  {
   "cell_type": "code",
   "execution_count": 14,
   "id": "88d8e9ab",
   "metadata": {
    "scrolled": true
   },
   "outputs": [
    {
     "name": "stdout",
     "output_type": "stream",
     "text": [
      "[1] 3\n"
     ]
    }
   ],
   "source": [
    "# Task 2-d: Find the number of self-employed male applicants from urban area with exactly two dependents \n",
    "\n",
    "num_data <- nrow(data_set[data_set$Gender == 'Male' & data_set$Self_Employed == 'Yes' & data_set$Property_Area == 'Urban' & data_set$Dependents == '2', ])\n",
    "print(num_data)"
   ]
  },
  {
   "cell_type": "markdown",
   "id": "c0b336e2",
   "metadata": {},
   "source": [
    "* So there are 3  number of self-employed male applicants from urban area with exactly two dependents "
   ]
  },
  {
   "cell_type": "code",
   "execution_count": null,
   "id": "0482d9fe",
   "metadata": {},
   "outputs": [],
   "source": []
  },
  {
   "cell_type": "markdown",
   "id": "1bcd55ea",
   "metadata": {},
   "source": [
    "# Task 3: Visualization (30 points)"
   ]
  },
  {
   "cell_type": "code",
   "execution_count": 15,
   "id": "f084bde3",
   "metadata": {
    "scrolled": false
   },
   "outputs": [
    {
     "name": "stdout",
     "output_type": "stream",
     "text": [
      "[1] \" plot show educated applicants who are granted loans\"\n"
     ]
    },
    {
     "data": {
      "image/png": "[encoded data removed]",
      "text/plain": [
       "Plot with title \"data_set\""
      ]
     },
     "metadata": {},
     "output_type": "display_data"
    }
   ],
   "source": [
    "# Task 3-a Display a plot where educated applicants are granted loans\n",
    "\n",
    "print(\" plot show educated applicants who are granted loans\")\n",
    "mosaicplot(Loan_Status~Education,data=data_set,col=c(\"blue\",\"yellow\"))\n",
    "\n",
    "\n"
   ]
  },
  {
   "cell_type": "markdown",
   "id": "67408f38",
   "metadata": {},
   "source": [
    "* Large are of blue color  in the plot represents educated applicants who has been granted loans"
   ]
  },
  {
   "cell_type": "code",
   "execution_count": null,
   "id": "5b461e79",
   "metadata": {},
   "outputs": [],
   "source": []
  },
  {
   "cell_type": "code",
   "execution_count": 16,
   "id": "7b66de38",
   "metadata": {},
   "outputs": [
    {
     "data": {
      "image/png": "[encoded data removed]",
      "text/plain": [
       "Plot with title \"Pie Chart of Property Area\""
      ]
     },
     "metadata": {},
     "output_type": "display_data"
    }
   ],
   "source": [
    "# Task 3-b Create a pie chart for Property_area and display percentages in legend respectively\n",
    "Urban <- nrow(data_set[data_set$Property_Area == 'Urban',])\n",
    "Rural <- nrow(data_set[data_set$Property_Area == 'Rural',])\n",
    "SemiUrban <- nrow(data_set[df$Property_Area == 'Semiurban',])\n",
    "\n",
    "dum <- c(Rural, Urban, SemiUrban)\n",
    "labels <- c(\"Rural\", \"Urban\", \"Semiurban\")     \n",
    "# To calculate percentage for                                                       \n",
    "pie_percent<- round(100 * dum / sum(dum), 1)\n",
    "pie(dum, labels = pie_percent,\n",
    "    main = \"Pie Chart of Property Area\", col = rainbow(length(dum)))\n",
    "legend(\"bottomright\", labels,\n",
    "                    cex = 0.5, fill = rainbow(length(dum)))"
   ]
  },
  {
   "cell_type": "code",
   "execution_count": null,
   "id": "53ed48d2",
   "metadata": {},
   "outputs": [],
   "source": []
  },
  {
   "cell_type": "markdown",
   "id": "736cf870",
   "metadata": {},
   "source": [
    "* Pie chart represents percentages of property areas\n",
    "\n",
    "* Here, Rural, Urban , Semiurban areas has 23.4, 26.4, 50.2 percents respectively, Hence majority of the area is occupied with semi urban and second majority is Urban."
   ]
  },
  {
   "cell_type": "markdown",
   "id": "1e8f4db0",
   "metadata": {},
   "source": [
    "# Task 4: Insights from the data (20 points)\n",
    "Find out 'interesting' information from the dataset. Give two insights and Create a visualization for each of the insights. Explain in a few lines your reasoning. \n",
    "\n",
    "Your work's uniqueness and quality will be taken into account when evaluating your work (having a meaningful result and an aesthetic visualization). "
   ]
  },
  {
   "cell_type": "code",
   "execution_count": 17,
   "id": "9fc2b9b5",
   "metadata": {
    "scrolled": true
   },
   "outputs": [
    {
     "data": {
      "image/png": "[encoded data removed]",
      "text/plain": [
       "plot without title"
      ]
     },
     "metadata": {},
     "output_type": "display_data"
    }
   ],
   "source": [
    "# Code and explaination for Task4\n",
    "#Insight 1\n",
    "barplot(data_set$ApplicantIncome)\n"
   ]
  },
  {
   "cell_type": "markdown",
   "id": "3a1438a8",
   "metadata": {},
   "source": [
    "* From this, we can see the applicant income mean is around 20000."
   ]
  },
  {
   "cell_type": "code",
   "execution_count": 118,
   "id": "771af0f3",
   "metadata": {
    "scrolled": false
   },
   "outputs": [
    {
     "data": {
      "image/png": "[encoded data removed]",
      "text/plain": [
       "plot without title"
      ]
     },
     "metadata": {},
     "output_type": "display_data"
    }
   ],
   "source": [
    "#Insight 2\n",
    "barplot(data_set$CoapplicantIncome)"
   ]
  },
  {
   "cell_type": "markdown",
   "id": "8a24ac3d",
   "metadata": {},
   "source": [
    "* We observe that the highest coapplicant income is around 41000 and the mean will be around 1500 and 2000."
   ]
  },
  {
   "cell_type": "markdown",
   "id": "56f3c19a",
   "metadata": {},
   "source": [
    "References : \n",
    "\n",
    "https://youtu.be/3iz-2iM4RFE\n",
    "https://www.geeksforgeeks.org/r-bar-charts/\n",
    "https://cran.r-project.org/doc/manuals/R-intro.html#The-R-environment"
   ]
  },
  {
   "cell_type": "markdown",
   "id": "91a7f3a1",
   "metadata": {},
   "source": [
    "Contribution: \n",
    "\n",
    " * Divya sri :Task 1  - Statistical Exploratory Data Analysis\n",
    " * Tejasri   :Task 2  - Aggregation & Filtering & Rank\n",
    " * Hema      :Task 3  - Visualization \n",
    " * Task 4 is contributed equally by all team members\n"
   ]
  }
 ],
 "metadata": {
  "kernelspec": {
   "display_name": "R",
   "language": "R",
   "name": "ir"
  },
  "language_info": {
   "codemirror_mode": "r",
   "file_extension": ".r",
   "mimetype": "text/x-r-source",
   "name": "R",
   "pygments_lexer": "r",
   "version": "3.6.1"
  },
  "vscode": {
   "interpreter": {
    "hash": "dbf7da27c4223095f591f04de42b6c01e5def2e4053c3e17ff923e1b75db67c7"
   }
  }
 },
 "nbformat": 4,
 "nbformat_minor": 5
}
